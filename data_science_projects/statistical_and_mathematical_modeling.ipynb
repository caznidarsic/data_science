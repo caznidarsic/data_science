{
 "cells": [
  {
   "cell_type": "markdown",
   "metadata": {
    "colab_type": "text",
    "id": "K5OfYhJP1pqB"
   },
   "source": [
    "# Problem Set 3"
   ]
  },
  {
   "cell_type": "markdown",
   "metadata": {
    "colab_type": "text",
    "id": "qWXq2FnU1pqE"
   },
   "source": [
    "This is a problem about Abalone.\n",
    "\n",
    "The overall question revolves around abalone rings. The target variable is rings because it is a predictor of age. \n",
    "\n",
    "\n",
    "<a id=\"contents\"></a>\n",
    "# Contents\n",
    "\n",
    "1. [ETL](#step1)\n",
    "2. [EDA](#step2)\n",
    "3. [Statistical and Mathematical Modeling of the Target Variable](#step3)\n"
   ]
  },
  {
   "cell_type": "code",
   "execution_count": 1,
   "metadata": {
    "colab_type": "text",
    "id": "lhAZG84l3hzG",
    "jupyter": {
     "source_hidden": true
    },
    "tags": []
   },
   "outputs": [],
   "source": [
    "import numpy as np\n",
    "import random as py_random\n",
    "import numpy.random as np_random\n",
    "import time\n",
    "import seaborn as sns\n",
    "import matplotlib.pyplot as plt\n",
    "import pandas as pd\n",
    "import scipy.stats as stats\n",
    "from tabulate import tabulate\n",
    "import math\n",
    "from scipy.stats import norm\n",
    "from scipy.stats import lognorm\n",
    "\n",
    "import statsmodels.api as sm\n",
    "\n",
    "sns.set(style=\"whitegrid\")"
   ]
  },
  {
   "cell_type": "markdown",
   "metadata": {
    "colab_type": "text",
    "id": "VhUOc0Bw2xOj"
   },
   "source": [
    "## 1 <a id=\"step1\">(ETL) Extract, Transform, Load the Data</a>\n",
    "<a href=\"#contents\">^ Contents</a>"
   ]
  },
  {
   "cell_type": "markdown",
   "metadata": {},
   "source": [
    "This is the data dictionary for the Abalone data:\n",
    "\n",
    "```\n",
    "Description of fields in abalone data.\n",
    "\n",
    "Name            Data Type    Meas.    Description\n",
    "----            ---------    -----    -----------\n",
    "Sex             nominal               M, F, and I (infant)\n",
    "Length          continuous    mm      Longest shell measurement\n",
    "Diameter        continuous    mm      perpendicular to length\n",
    "Height          continuous    mm      with meat in shell\n",
    "Whole weight    continuous    grams   whole abalone\n",
    "Shucked weight  continuous    grams   weight of meat\n",
    "Viscera weight  continuous    grams   gut weight (after bleeding)\n",
    "Shell weight    continuous    grams   after being dried\n",
    "Rings           integer               +1.5 gives the age in years\n",
    "```\n",
    "\n",
    "The first step is to load the data from its remote location into a dataframe and to make sure we have the data:"
   ]
  },
  {
   "cell_type": "code",
   "execution_count": 2,
   "metadata": {
    "colab": {},
    "colab_type": "code",
    "id": "uVoZBXNm1pqG",
    "jupyter": {
     "source_hidden": true
    },
    "tags": []
   },
   "outputs": [],
   "source": [
    "df = pd.read_csv(\"https://raw.githubusercontent.com/fundamentals-of-data-science/datasets/master/abalone.original.csv\")"
   ]
  },
  {
   "cell_type": "markdown",
   "metadata": {
    "colab_type": "text",
    "id": "lmK3roDw3eqg"
   },
   "source": [
    "Let's look at the overall characteristics of the data to make sure it is loaded correctly. First, let's get the basic data frame info:"
   ]
  },
  {
   "cell_type": "code",
   "execution_count": 3,
   "metadata": {
    "jupyter": {
     "source_hidden": true
    },
    "scrolled": true,
    "tags": []
   },
   "outputs": [
    {
     "name": "stdout",
     "output_type": "stream",
     "text": [
      "<class 'pandas.core.frame.DataFrame'>\n",
      "RangeIndex: 4176 entries, 0 to 4175\n",
      "Data columns (total 9 columns):\n",
      " #   Column  Non-Null Count  Dtype  \n",
      "---  ------  --------------  -----  \n",
      " 0   M       4176 non-null   object \n",
      " 1   91      4176 non-null   int64  \n",
      " 2   73      4176 non-null   int64  \n",
      " 3   19      4176 non-null   int64  \n",
      " 4   102.8   4176 non-null   float64\n",
      " 5   44.9    4176 non-null   float64\n",
      " 6   20.2    4176 non-null   float64\n",
      " 7   30      4176 non-null   float64\n",
      " 8   15      4176 non-null   int64  \n",
      "dtypes: float64(4), int64(4), object(1)\n",
      "memory usage: 293.8+ KB\n"
     ]
    }
   ],
   "source": [
    "df.info()"
   ]
  },
  {
   "cell_type": "markdown",
   "metadata": {},
   "source": [
    "There are 4176 entries for each variable so there are no missing values. There are 8 numerical variables and 1 categorical variable. Let's look at the first few rows:"
   ]
  },
  {
   "cell_type": "code",
   "execution_count": 4,
   "metadata": {
    "jupyter": {
     "source_hidden": true
    },
    "scrolled": true,
    "tags": []
   },
   "outputs": [
    {
     "data": {
      "text/html": [
       "<div>\n",
       "<style scoped>\n",
       "    .dataframe tbody tr th:only-of-type {\n",
       "        vertical-align: middle;\n",
       "    }\n",
       "\n",
       "    .dataframe tbody tr th {\n",
       "        vertical-align: top;\n",
       "    }\n",
       "\n",
       "    .dataframe thead th {\n",
       "        text-align: right;\n",
       "    }\n",
       "</style>\n",
       "<table border=\"1\" class=\"dataframe\">\n",
       "  <thead>\n",
       "    <tr style=\"text-align: right;\">\n",
       "      <th></th>\n",
       "      <th>M</th>\n",
       "      <th>91</th>\n",
       "      <th>73</th>\n",
       "      <th>19</th>\n",
       "      <th>102.8</th>\n",
       "      <th>44.9</th>\n",
       "      <th>20.2</th>\n",
       "      <th>30</th>\n",
       "      <th>15</th>\n",
       "    </tr>\n",
       "  </thead>\n",
       "  <tbody>\n",
       "    <tr>\n",
       "      <th>0</th>\n",
       "      <td>M</td>\n",
       "      <td>70</td>\n",
       "      <td>53</td>\n",
       "      <td>18</td>\n",
       "      <td>45.1</td>\n",
       "      <td>19.9</td>\n",
       "      <td>9.7</td>\n",
       "      <td>14.0</td>\n",
       "      <td>7</td>\n",
       "    </tr>\n",
       "    <tr>\n",
       "      <th>1</th>\n",
       "      <td>F</td>\n",
       "      <td>106</td>\n",
       "      <td>84</td>\n",
       "      <td>27</td>\n",
       "      <td>135.4</td>\n",
       "      <td>51.3</td>\n",
       "      <td>28.3</td>\n",
       "      <td>42.0</td>\n",
       "      <td>9</td>\n",
       "    </tr>\n",
       "    <tr>\n",
       "      <th>2</th>\n",
       "      <td>M</td>\n",
       "      <td>88</td>\n",
       "      <td>73</td>\n",
       "      <td>25</td>\n",
       "      <td>103.2</td>\n",
       "      <td>43.1</td>\n",
       "      <td>22.8</td>\n",
       "      <td>31.0</td>\n",
       "      <td>10</td>\n",
       "    </tr>\n",
       "    <tr>\n",
       "      <th>3</th>\n",
       "      <td>I</td>\n",
       "      <td>66</td>\n",
       "      <td>51</td>\n",
       "      <td>16</td>\n",
       "      <td>41.0</td>\n",
       "      <td>17.9</td>\n",
       "      <td>7.9</td>\n",
       "      <td>11.0</td>\n",
       "      <td>7</td>\n",
       "    </tr>\n",
       "    <tr>\n",
       "      <th>4</th>\n",
       "      <td>I</td>\n",
       "      <td>85</td>\n",
       "      <td>60</td>\n",
       "      <td>19</td>\n",
       "      <td>70.3</td>\n",
       "      <td>28.2</td>\n",
       "      <td>15.5</td>\n",
       "      <td>24.0</td>\n",
       "      <td>8</td>\n",
       "    </tr>\n",
       "  </tbody>\n",
       "</table>\n",
       "</div>"
      ],
      "text/plain": [
       "   M   91  73  19  102.8  44.9  20.2    30  15\n",
       "0  M   70  53  18   45.1  19.9   9.7  14.0   7\n",
       "1  F  106  84  27  135.4  51.3  28.3  42.0   9\n",
       "2  M   88  73  25  103.2  43.1  22.8  31.0  10\n",
       "3  I   66  51  16   41.0  17.9   7.9  11.0   7\n",
       "4  I   85  60  19   70.3  28.2  15.5  24.0   8"
      ]
     },
     "execution_count": 4,
     "metadata": {},
     "output_type": "execute_result"
    }
   ],
   "source": [
    "df.head()"
   ]
  },
  {
   "cell_type": "markdown",
   "metadata": {},
   "source": [
    "We immediately notice that the dataframe does not have column labels. We can add these in according to the data dictionary provided above."
   ]
  },
  {
   "cell_type": "code",
   "execution_count": 5,
   "metadata": {
    "jupyter": {
     "source_hidden": true
    },
    "scrolled": true,
    "tags": []
   },
   "outputs": [
    {
     "data": {
      "text/html": [
       "<div>\n",
       "<style scoped>\n",
       "    .dataframe tbody tr th:only-of-type {\n",
       "        vertical-align: middle;\n",
       "    }\n",
       "\n",
       "    .dataframe tbody tr th {\n",
       "        vertical-align: top;\n",
       "    }\n",
       "\n",
       "    .dataframe thead th {\n",
       "        text-align: right;\n",
       "    }\n",
       "</style>\n",
       "<table border=\"1\" class=\"dataframe\">\n",
       "  <thead>\n",
       "    <tr style=\"text-align: right;\">\n",
       "      <th></th>\n",
       "      <th>Sex</th>\n",
       "      <th>Length</th>\n",
       "      <th>Diameter</th>\n",
       "      <th>Height</th>\n",
       "      <th>Whole_weight</th>\n",
       "      <th>Shucked_weight</th>\n",
       "      <th>Viscera_weight</th>\n",
       "      <th>Shell_weight</th>\n",
       "      <th>Rings</th>\n",
       "    </tr>\n",
       "  </thead>\n",
       "  <tbody>\n",
       "    <tr>\n",
       "      <th>0</th>\n",
       "      <td>M</td>\n",
       "      <td>70</td>\n",
       "      <td>53</td>\n",
       "      <td>18</td>\n",
       "      <td>45.1</td>\n",
       "      <td>19.9</td>\n",
       "      <td>9.7</td>\n",
       "      <td>14.0</td>\n",
       "      <td>7</td>\n",
       "    </tr>\n",
       "    <tr>\n",
       "      <th>1</th>\n",
       "      <td>F</td>\n",
       "      <td>106</td>\n",
       "      <td>84</td>\n",
       "      <td>27</td>\n",
       "      <td>135.4</td>\n",
       "      <td>51.3</td>\n",
       "      <td>28.3</td>\n",
       "      <td>42.0</td>\n",
       "      <td>9</td>\n",
       "    </tr>\n",
       "    <tr>\n",
       "      <th>2</th>\n",
       "      <td>M</td>\n",
       "      <td>88</td>\n",
       "      <td>73</td>\n",
       "      <td>25</td>\n",
       "      <td>103.2</td>\n",
       "      <td>43.1</td>\n",
       "      <td>22.8</td>\n",
       "      <td>31.0</td>\n",
       "      <td>10</td>\n",
       "    </tr>\n",
       "    <tr>\n",
       "      <th>3</th>\n",
       "      <td>I</td>\n",
       "      <td>66</td>\n",
       "      <td>51</td>\n",
       "      <td>16</td>\n",
       "      <td>41.0</td>\n",
       "      <td>17.9</td>\n",
       "      <td>7.9</td>\n",
       "      <td>11.0</td>\n",
       "      <td>7</td>\n",
       "    </tr>\n",
       "    <tr>\n",
       "      <th>4</th>\n",
       "      <td>I</td>\n",
       "      <td>85</td>\n",
       "      <td>60</td>\n",
       "      <td>19</td>\n",
       "      <td>70.3</td>\n",
       "      <td>28.2</td>\n",
       "      <td>15.5</td>\n",
       "      <td>24.0</td>\n",
       "      <td>8</td>\n",
       "    </tr>\n",
       "  </tbody>\n",
       "</table>\n",
       "</div>"
      ],
      "text/plain": [
       "  Sex  Length  Diameter  Height  Whole_weight  Shucked_weight  Viscera_weight  \\\n",
       "0   M      70        53      18          45.1            19.9             9.7   \n",
       "1   F     106        84      27         135.4            51.3            28.3   \n",
       "2   M      88        73      25         103.2            43.1            22.8   \n",
       "3   I      66        51      16          41.0            17.9             7.9   \n",
       "4   I      85        60      19          70.3            28.2            15.5   \n",
       "\n",
       "   Shell_weight  Rings  \n",
       "0          14.0      7  \n",
       "1          42.0      9  \n",
       "2          31.0     10  \n",
       "3          11.0      7  \n",
       "4          24.0      8  "
      ]
     },
     "execution_count": 5,
     "metadata": {},
     "output_type": "execute_result"
    }
   ],
   "source": [
    "df.columns = ['Sex', 'Length', 'Diameter', 'Height', 'Whole_weight', 'Shucked_weight', 'Viscera_weight', 'Shell_weight', 'Rings']\n",
    "df.head()"
   ]
  },
  {
   "cell_type": "markdown",
   "metadata": {},
   "source": [
    "Now we have added column labels to our dataframe. We can see that the 'Whole weight' variable is more than the 'Shucked weight', 'Viscera weight' and 'Shell weight', which is what we would expect. We also note that 'Length', 'Diameter' and 'Height' are all integers, whereas the weight variables are all floating point values. Another thing we notice is that 'Sex' has values of 'M', 'F' and 'I'. The data dictionary defines the 'I' as 'Infant'. "
   ]
  },
  {
   "cell_type": "code",
   "execution_count": 6,
   "metadata": {
    "jupyter": {
     "source_hidden": true
    },
    "tags": []
   },
   "outputs": [],
   "source": [
    "def freeman_diaconis(data):\n",
    "    quartiles = stats.mstats.mquantiles( data, [0.25, 0.5, 0.75])\n",
    "    iqr = quartiles[2] - quartiles[ 0]\n",
    "    n = len( data)\n",
    "    h = 2.0 * (iqr/n**(1.0/3.0))\n",
    "    return int(np.ceil(h))"
   ]
  },
  {
   "cell_type": "code",
   "execution_count": 7,
   "metadata": {
    "jupyter": {
     "source_hidden": true
    },
    "tags": []
   },
   "outputs": [],
   "source": [
    "def histogram_w_whiskers(data, variable_name, zoom=None):\n",
    "    h = freeman_diaconis(data[variable_name])\n",
    "    mn = int(data[variable_name].min())\n",
    "    mx = int(data[variable_name].max())\n",
    "    bins = [i for i in range( mn, mx, h)]\n",
    "    print(f\"Freeman Diaconis for {variable_name}: {len(bins)} bins\")\n",
    "\n",
    "    observations = len(data)\n",
    "    empirical_weights = np.ones(observations)/observations # this converts counts to relative frequencies when used in hist()\n",
    "        \n",
    "    # start the plot: 2 rows, because we want the boxplot on the first row\n",
    "    # and the hist on the second\n",
    "    fig, ax = plt.subplots(\n",
    "        2, figsize=(7, 5), sharex=True,\n",
    "        gridspec_kw={\"height_ratios\": (.7, .3)}  # the boxplot gets 30% of the vertical space\n",
    "    )\n",
    "\n",
    "    # the histogram\n",
    "    ax[0].hist(data[variable_name],bins=bins, color=\"dimgray\", weights=empirical_weights)\n",
    "    ax[0].set_title(f\"{variable_name} distribution - Freeman Diaconis\")\n",
    "    ax[0].set_ylabel(\"Relative Frequency\")\n",
    "    if zoom:\n",
    "        ax[0].set_ylim((0, zoom))\n",
    "    # the box plot\n",
    "    ax[1].boxplot(data[variable_name], vert=False)\n",
    "    # removing borders\n",
    "    ax[1].spines['top'].set_visible(False)\n",
    "    ax[1].spines['right'].set_visible(False)\n",
    "    ax[1].spines['left'].set_visible(False)\n",
    "    ax[1].set_xlabel(variable_name)\n",
    "\n",
    "    # and we are good to go\n",
    "    plt.show()\n",
    "    plt.close()\n",
    "    return h"
   ]
  },
  {
   "cell_type": "code",
   "execution_count": 8,
   "metadata": {
    "jupyter": {
     "source_hidden": true
    },
    "tags": []
   },
   "outputs": [],
   "source": [
    "def histogram_trio(data, variable_name, zoom=1.0):\n",
    "    h = freeman_diaconis(data[variable_name])\n",
    "    mn = int(data[variable_name].min())\n",
    "    mx = int(data[variable_name].max())\n",
    "    bins = [i for i in range( mn, mx, h)]\n",
    "    print(f\"Freeman Diaconis for {variable_name}: {len(bins)} bins\")\n",
    "\n",
    "    observations = len(data)\n",
    "    empirical_weights = np.ones(observations)/observations # this converts counts to relative frequencies when used in hist()\n",
    "\n",
    "    fig, ax = plt.subplots(1, 3, figsize=(20, 6), sharey=True)\n",
    "\n",
    "    fewer_bins = int(len(bins) * .50)\n",
    "    more_bins = int(len(bins) * 2)\n",
    "\n",
    "    n, bins, patches = ax[1].hist(data[variable_name], color=\"DimGray\", bins=bins, weights=empirical_weights) # <---\n",
    "    ax[1].set_xlabel(variable_name)\n",
    "    ax[1].set_ylabel(\"Relative Frequency\")\n",
    "    ax[1].set_title(f\"Relative Frequency Histogram of {variable_name}\")\n",
    "    ax[1].set_ylim((0, zoom))\n",
    "    \n",
    "    n, bins, patches = ax[0].hist(data[variable_name], color=\"DimGray\", bins=fewer_bins, weights=empirical_weights)\n",
    "    ax[0].set_xlabel(variable_name)\n",
    "    ax[0].set_ylabel(\"Relative Frequency\")\n",
    "    ax[0].set_title(f\"Relative Frequency Histogram of {variable_name} (Fewer Bins)\")\n",
    "    \n",
    "    n, bins, patches = ax[2].hist(data[variable_name], color=\"DimGray\", bins=more_bins, weights=empirical_weights)\n",
    "    ax[2].set_xlabel(variable_name)\n",
    "    ax[2].set_ylabel(\"Relative Frequency\")\n",
    "    ax[2].set_title(f\"Relative Frequency Histogram of {variable_name} (More Bins)\")\n",
    "\n",
    "    plt.show()\n",
    "    plt.close()"
   ]
  },
  {
   "cell_type": "markdown",
   "metadata": {
    "colab_type": "text",
    "id": "MlBjJXqx2z1I"
   },
   "source": [
    "## 2 <a id=\"step2\">(EDA) Exploratory Data Analysis</a>\n",
    "\n",
    "## Single Variable EDA\n",
    "\n",
    "We'll start our EDA by looking at each variable individually, starting with the target variable, *Rings*.\n",
    "\n",
    "<a href=\"#Rings\">Rings</a><br>\n",
    "<a href=\"#Sex\">Sex</a><br>\n",
    "<a href=\"#Length\">Length</a><br>\n",
    "<a href=\"#Diameter\">Diameter</a><br>\n",
    "<a href=\"#Height\">Height</a><br>\n",
    "<a href=\"#Whole weight\">Whole weight</a><br>\n",
    "<a href=\"#Shucked weight\">Shucked weight</a><br>\n",
    "<a href=\"#Viscera weight\">Viscera weight</a><br>\n",
    "<a href=\"#Shell weight\">Shell weight</a><br>"
   ]
  },
  {
   "cell_type": "markdown",
   "metadata": {
    "colab_type": "text",
    "id": "VYRVa9cu3fGA"
   },
   "source": [
    "<a id=\"Rings\"></a>\n",
    "## Rings\n"
   ]
  },
  {
   "cell_type": "markdown",
   "metadata": {},
   "source": [
    "The Rings variable is our target variable in our EDA. It is an integer variable measured in number of rings.\n",
    "\n",
    "**Domain Knowledge**\n",
    "\n",
    "Abalone have rings for each year of growth. This means that counting the number of rings of an abalone shell is a good measure of the number of years it has been alive. The shell rings are measured by cutting the shell through the cone, then staining it, and then counting the number of rings through a microscope. This process is time-consuming.\n",
    "\n",
    "Data Source: [ucdavis.edu](https://anson.ucdavis.edu/~haochen/abalone_description.pdf)\n",
    "Retrieved on October 16, 2023.\n",
    "\n",
    "Abalone can live to be about 35 to 40 years old.\n",
    "\n",
    "Data Source: [fisheries.noaa.gov](https://www.fisheries.noaa.gov/species/white-abalone#:~:text=White%20abalone%20live%20about%2035,and%20sperm%20into%20the%20water.)\n",
    "Retrieved on October 16, 2023.\n",
    "\n",
    "**Hypothesis**\n",
    "\n",
    "We predict the number of rings to span anywhere from 1 to 40, as that is the age range for abalone. We expect most ring counts to be closer to 1, and fewer to be closer to 40.\n",
    "\n",
    "First we start out using the describe() method to get some preliminary summary statistics of our data."
   ]
  },
  {
   "cell_type": "code",
   "execution_count": 9,
   "metadata": {
    "jupyter": {
     "source_hidden": true
    },
    "tags": []
   },
   "outputs": [
    {
     "data": {
      "text/plain": [
       "count    4176.000000\n",
       "mean        9.932471\n",
       "std         3.223601\n",
       "min         1.000000\n",
       "25%         8.000000\n",
       "50%         9.000000\n",
       "75%        11.000000\n",
       "max        29.000000\n",
       "Name: Rings, dtype: float64"
      ]
     },
     "execution_count": 9,
     "metadata": {},
     "output_type": "execute_result"
    }
   ],
   "source": [
    "df.Rings.describe()"
   ]
  },
  {
   "cell_type": "markdown",
   "metadata": {},
   "source": [
    "The summary statistics mostly support our hypothesis. The mean is 9.93 and the median is 9.00. The variable is definitely skewed. The 3rd quartile is 11.00 and the Inter-Quartile Range (IQR) is 3. The minimum is 1.00 while the maximum is 29.00 which is 29x larger.\n",
    "\n",
    "Now we use a histogram using Freeman Diaconis bins as well as a box-and-whiskers plot. These charts will allow us to see the distribution better. We expect to see a distribution with some large extreme values."
   ]
  },
  {
   "cell_type": "code",
   "execution_count": 10,
   "metadata": {
    "jupyter": {
     "source_hidden": true
    },
    "tags": []
   },
   "outputs": [
    {
     "name": "stdout",
     "output_type": "stream",
     "text": [
      "Freeman Diaconis for Rings: 28 bins\n"
     ]
    },
    {
     "data": {
      "image/png": "[encoded data removed]",
      "text/plain": [
       "<Figure size 700x500 with 2 Axes>"
      ]
     },
     "metadata": {},
     "output_type": "display_data"
    }
   ],
   "source": [
    "rings_bins = histogram_w_whiskers(df, \"Rings\")"
   ]
  },
  {
   "cell_type": "markdown",
   "metadata": {},
   "source": [
    "As we predicted we can see some extreme values to the right. The distribution looks slightly skewed to the right, with most of the values being towards the left. The box and whiskers plot shows the median is right around 9, which is consistent with our preliminary descriptive statistics.\n",
    "\n",
    "Now we use the $histogram\\_trio()$ method to chart three different histograms, each with a different number of bins."
   ]
  },
  {
   "cell_type": "code",
   "execution_count": 11,
   "metadata": {
    "jupyter": {
     "source_hidden": true
    },
    "tags": []
   },
   "outputs": [
    {
     "name": "stdout",
     "output_type": "stream",
     "text": [
      "Freeman Diaconis for Rings: 28 bins\n"
     ]
    },
    {
     "data": {
      "image/png": "[encoded data removed]",
      "text/plain": [
       "<Figure size 2000x600 with 3 Axes>"
      ]
     },
     "metadata": {},
     "output_type": "display_data"
    }
   ],
   "source": [
    "histogram_trio(df, \"Rings\", zoom=0.4)"
   ]
  },
  {
   "cell_type": "markdown",
   "metadata": {},
   "source": [
    "After using different numbers of bins, we see that the overall shape of the data remains consistent. Using different bin counts has not illuminated any significant new information about our data.\n",
    "\n",
    "In summary, we found that abalone ring counts are in the range of 1 to 29, with most being smaller and relatively few being close to 29."
   ]
  },
  {
   "cell_type": "markdown",
   "metadata": {
    "colab_type": "text",
    "id": "VYRVa9cu3fGA"
   },
   "source": [
    "<a id=\"Sex\"></a>\n",
    "## Sex\n",
    "\n",
    "The sex variable represents the sex of the abalone. It is a nominal variable with the domain $['M', 'F', 'I']$.\n",
    "\n",
    "**Domain Knowledge**\n",
    "\n",
    "Abalone have two sexes, male or female. It is difficult to distinguish the different sexes from their external appearance. Instead, one most look inside at the reproductive organs.\n",
    "\n",
    "Data Source: [wildlife.ca.gov](https://wildlife.ca.gov/Conservation/Marine/Invertebrates/Abalone#:~:text=The%20sexes%20are%20separate%20but,open%20holes%20in%20their%20shells.)\n",
    "Retrieved on October 16, 2023.\n",
    "\n",
    "**Hypothesis**\n",
    "\n",
    "We predict there to be an approximately even number of male and female abalone, with some also being infants, which we assume means indeterminate sex.\n",
    "\n",
    "First we start out using value_counts() to get the counts of each sex."
   ]
  },
  {
   "cell_type": "code",
   "execution_count": 12,
   "metadata": {
    "jupyter": {
     "source_hidden": true
    },
    "tags": []
   },
   "outputs": [
    {
     "data": {
      "text/plain": [
       "Sex\n",
       "M    1527\n",
       "I    1342\n",
       "F    1307\n",
       "Name: count, dtype: int64"
      ]
     },
     "execution_count": 12,
     "metadata": {},
     "output_type": "execute_result"
    }
   ],
   "source": [
    "df.Sex.value_counts()"
   ]
  },
  {
   "cell_type": "markdown",
   "metadata": {},
   "source": [
    "Interestingly, there are a non-negligible difference in the counts of each sex. There are more than 2000 more male abalone than female, and an approximately even number of infants and female abalone.\n",
    "\n",
    "1. It is possible that males have longer life expectancies than females, which could be a result of their reproductive cycles."
   ]
  },
  {
   "cell_type": "markdown",
   "metadata": {
    "colab_type": "text",
    "id": "VYRVa9cu3fGA"
   },
   "source": [
    "<a id=\"Length\"></a>\n",
    "## Length"
   ]
  },
  {
   "cell_type": "markdown",
   "metadata": {},
   "source": [
    "The length variable is the longest measurement of the abalone shells in our data. It is a continuous numerical variable measured in millimeters.\n",
    "\n",
    "**Domain Knowledge**\n",
    "\n",
    "Abalone grow nearly one inch per year for the first few years and then much slower after that. It takes about 5 years for red abalone to grow from 178 mm to 203 mm. After that, it takes about 13 years to grow another 25 mm (about an inch). \n",
    "\n",
    "Data Source: [wildlife.ca.gov](https://wildlife.ca.gov/Conservation/Marine/Invertebrates/Abalone#:~:text=Abalone%20grow%20nearly%20one%20inch,years%20to%20grow%20another%20inch.)\n",
    "Retrieved on October 16, 2023.\n",
    "\n",
    "**Hypothesis**\n",
    "\n",
    "We predict that the abalone range from 25 mm to 254 mm, with a majority being around 178 mm and only a few reaching into the larger lengths.\n",
    "\n",
    "First we start out using the describe() method to get some preliminary summary statistics of our data."
   ]
  },
  {
   "cell_type": "code",
   "execution_count": 13,
   "metadata": {
    "jupyter": {
     "source_hidden": true
    },
    "tags": []
   },
   "outputs": [
    {
     "data": {
      "text/plain": [
       "count    4176.000000\n",
       "mean      104.801724\n",
       "std        24.020509\n",
       "min        15.000000\n",
       "25%        90.000000\n",
       "50%       109.000000\n",
       "75%       123.000000\n",
       "max       163.000000\n",
       "Name: Length, dtype: float64"
      ]
     },
     "execution_count": 13,
     "metadata": {},
     "output_type": "execute_result"
    }
   ],
   "source": [
    "df.Length.describe()"
   ]
  },
  {
   "cell_type": "markdown",
   "metadata": {},
   "source": [
    "The summary statistics partially support our hypothesis. The mean is 105 and the median is 109. The 3rd quartile is 123 and the Inter-Quartile Range (IQR) is 33. The minimum is 15 while the maximum is 163. Our hypothesis range predicted as many as 254 mm, but the largest is 163 inches.\n",
    "\n",
    "Now we use a histogram using Freeman Diaconis bins as well as a box-and-whiskers plot. These charts will allow us to see the distribution better. We expect to see a distribution with some large extreme values."
   ]
  },
  {
   "cell_type": "code",
   "execution_count": 14,
   "metadata": {
    "jupyter": {
     "source_hidden": true
    },
    "tags": []
   },
   "outputs": [
    {
     "name": "stdout",
     "output_type": "stream",
     "text": [
      "Freeman Diaconis for Length: 30 bins\n"
     ]
    },
    {
     "data": {
      "image/png": "[encoded data removed]",
      "text/plain": [
       "<Figure size 700x500 with 2 Axes>"
      ]
     },
     "metadata": {},
     "output_type": "display_data"
    }
   ],
   "source": [
    "length_bins = histogram_w_whiskers(df, \"Length\")"
   ]
  },
  {
   "cell_type": "markdown",
   "metadata": {},
   "source": [
    "Our prediction was off here, as we predicted a majority of values be to the left, but the histogram shows that they are actually more to the right. This result is probably because the abalone grow much faster at earlier ages and then their growth slows down as they get older.\n",
    "\n",
    "Now we use the $histogram\\_trio()$ method to chart three different histograms, each with a different number of bins."
   ]
  },
  {
   "cell_type": "code",
   "execution_count": 15,
   "metadata": {
    "jupyter": {
     "source_hidden": true
    },
    "tags": []
   },
   "outputs": [
    {
     "name": "stdout",
     "output_type": "stream",
     "text": [
      "Freeman Diaconis for Length: 30 bins\n"
     ]
    },
    {
     "data": {
      "image/png": "[encoded data removed]",
      "text/plain": [
       "<Figure size 2000x600 with 3 Axes>"
      ]
     },
     "metadata": {},
     "output_type": "display_data"
    }
   ],
   "source": [
    "histogram_trio(df, \"Length\", zoom=0.4)"
   ]
  },
  {
   "cell_type": "markdown",
   "metadata": {},
   "source": [
    "After using different numbers of bins, we see that the overall shape of the data remains consistent.\n",
    "\n",
    "In summary, we found that abalone lengths range from 24 to 163 millimeters, with the average being 105 mm long."
   ]
  },
  {
   "cell_type": "markdown",
   "metadata": {
    "colab_type": "text",
    "id": "VYRVa9cu3fGA"
   },
   "source": [
    "<a id=\"Diameter\"></a>\n",
    "## Diameter"
   ]
  },
  {
   "cell_type": "markdown",
   "metadata": {},
   "source": [
    "The diameter variable is the measurement of the abalone perpendicular to the length. It is a continuous numerical variable measured in millimeters.\n",
    "\n",
    "**Domain Knowledge**\n",
    "\n",
    "We use the same domain knowledge as we obtained for the abalone length variable.\n",
    "\n",
    "**Hypothesis**\n",
    "\n",
    "We predict that the abalone diameters (widths) will follow the same approximate distribution as the length variable, and that diameter and length are directly related. We also predict that the diameters will be slightly shorter than the lengths.\n",
    "\n",
    "First we start out using the describe() method to get some preliminary summary statistics of our data."
   ]
  },
  {
   "cell_type": "code",
   "execution_count": 16,
   "metadata": {
    "jupyter": {
     "source_hidden": true
    },
    "tags": []
   },
   "outputs": [
    {
     "data": {
      "text/plain": [
       "count    4176.000000\n",
       "mean       81.578305\n",
       "std        19.849906\n",
       "min        11.000000\n",
       "25%        70.000000\n",
       "50%        85.000000\n",
       "75%        96.000000\n",
       "max       130.000000\n",
       "Name: Diameter, dtype: float64"
      ]
     },
     "execution_count": 16,
     "metadata": {},
     "output_type": "execute_result"
    }
   ],
   "source": [
    "df.Diameter.describe()"
   ]
  },
  {
   "cell_type": "markdown",
   "metadata": {},
   "source": [
    "The summary statistics support our hypothesis. The mean is 81.5 which is indeed shorter than the average length value of 105. Also the min value of 11, the median of 85, and the max of 130 seem to suggest that our data is indeed concentrated at the mid-higher values, which is in accordance with the length distribution and supports our hypothesis.\n",
    "\n",
    "Now we use a histogram using Freeman Diaconis bins as well as a box-and-whiskers plot. These charts will allow us to see the distribution better. We expect to see a distribution with some large extreme values."
   ]
  },
  {
   "cell_type": "code",
   "execution_count": 17,
   "metadata": {
    "jupyter": {
     "source_hidden": true
    },
    "tags": []
   },
   "outputs": [
    {
     "name": "stdout",
     "output_type": "stream",
     "text": [
      "Freeman Diaconis for Diameter: 30 bins\n"
     ]
    },
    {
     "data": {
      "image/png": "[encoded data removed]",
      "text/plain": [
       "<Figure size 700x500 with 2 Axes>"
      ]
     },
     "metadata": {},
     "output_type": "display_data"
    }
   ],
   "source": [
    "diameter_bins = histogram_w_whiskers(df, \"Diameter\")"
   ]
  },
  {
   "cell_type": "markdown",
   "metadata": {},
   "source": [
    "As we predicted, the diameter distribution looks almost identical to the length distribution. \n",
    "\n",
    "Now we use the $histogram\\_trio()$ method to chart three different histograms, each with a different number of bins."
   ]
  },
  {
   "cell_type": "code",
   "execution_count": 18,
   "metadata": {
    "jupyter": {
     "source_hidden": true
    },
    "tags": []
   },
   "outputs": [
    {
     "name": "stdout",
     "output_type": "stream",
     "text": [
      "Freeman Diaconis for Diameter: 30 bins\n"
     ]
    },
    {
     "data": {
      "image/png": "[encoded data removed]",
      "text/plain": [
       "<Figure size 2000x600 with 3 Axes>"
      ]
     },
     "metadata": {},
     "output_type": "display_data"
    }
   ],
   "source": [
    "histogram_trio(df, \"Diameter\", zoom=0.4)"
   ]
  },
  {
   "cell_type": "markdown",
   "metadata": {},
   "source": [
    "After using different numbers of bins, we see that the overall shape of the data remains consistent, and it still appears to follow a similar shape to the length charts.\n",
    "\n",
    "In summary, we found that abalone diameters range from 11 to 130 millimeters, with the average being 82 mm."
   ]
  },
  {
   "cell_type": "markdown",
   "metadata": {
    "colab_type": "text",
    "id": "VYRVa9cu3fGA"
   },
   "source": [
    "<a id=\"Height\"></a>\n",
    "## Height"
   ]
  },
  {
   "cell_type": "markdown",
   "metadata": {},
   "source": [
    "The height variable is the measurement of the abalone with the meat still in the shell. It is a continuous numerical variable measured in millimeters.\n",
    "\n",
    "**Domain Knowledge**\n",
    "\n",
    "We use the same domain knowledge as we obtained for the abalone length and diameter variables.\n",
    "\n",
    "After looking at images of abalone, it can be observed that the meat of the abalone stick out from the bottom of the shell somewhat, meaning that the height measurement is the measurement from the bottom of the meat to the top of the shell.\n",
    "\n",
    "**Hypothesis**\n",
    "\n",
    "We predict that the abalone heights will also follow the same approximate distribution as the length variable, and that height, diameter and length are all directly related. We also predict that the heights will be shorter than the lengths and the diameters.\n",
    "\n",
    "First we start out using the describe() method to get some preliminary summary statistics of our data."
   ]
  },
  {
   "cell_type": "code",
   "execution_count": 19,
   "metadata": {
    "jupyter": {
     "source_hidden": true
    },
    "tags": []
   },
   "outputs": [
    {
     "data": {
      "text/plain": [
       "count    4176.000000\n",
       "mean       27.905412\n",
       "std         8.365278\n",
       "min         0.000000\n",
       "25%        23.000000\n",
       "50%        28.000000\n",
       "75%        33.000000\n",
       "max       226.000000\n",
       "Name: Height, dtype: float64"
      ]
     },
     "execution_count": 19,
     "metadata": {},
     "output_type": "execute_result"
    }
   ],
   "source": [
    "df.Height.describe()"
   ]
  },
  {
   "cell_type": "markdown",
   "metadata": {},
   "source": [
    "The summary statistics support our hypothesis. The mean is 28 which is indeed shorter than the average diameter value of 82.\n",
    "\n",
    "However, the preliminary descriptive statistics seem to include some extreme and potentially erroneous values. The minimum height is 0.00, which cannot be possible. The max is also 226.00 mm (8.9 inches), which is possible, but is certainly an extreme value. This value is likely erroneous as well, since we would have expected to see a similarly extreme value of length and diameter to match.\n",
    "\n",
    "Now we use a histogram using Freeman Diaconis bins as well as a box-and-whiskers plot. These charts will allow us to see the distribution better. We expect to see a distribution with some large extreme values."
   ]
  },
  {
   "cell_type": "code",
   "execution_count": 20,
   "metadata": {
    "jupyter": {
     "source_hidden": true
    },
    "tags": []
   },
   "outputs": [
    {
     "name": "stdout",
     "output_type": "stream",
     "text": [
      "Freeman Diaconis for Height: 113 bins\n"
     ]
    },
    {
     "data": {
      "image/png": "[encoded data removed]",
      "text/plain": [
       "<Figure size 700x500 with 2 Axes>"
      ]
     },
     "metadata": {},
     "output_type": "display_data"
    }
   ],
   "source": [
    "diameter_bins = histogram_w_whiskers(df, \"Height\")"
   ]
  },
  {
   "cell_type": "markdown",
   "metadata": {},
   "source": [
    "As we predicted, the height distribution looks very similar to the length and diameter distributions. However, we do see the extreme values here. There is a height just above 100 mm, as well as the 226 mm maximum value. \n",
    "\n",
    "To get better histograms, we can remove these extreme values."
   ]
  },
  {
   "cell_type": "code",
   "execution_count": 21,
   "metadata": {
    "jupyter": {
     "source_hidden": true
    },
    "scrolled": true,
    "tags": []
   },
   "outputs": [
    {
     "data": {
      "text/html": [
       "<div>\n",
       "<style scoped>\n",
       "    .dataframe tbody tr th:only-of-type {\n",
       "        vertical-align: middle;\n",
       "    }\n",
       "\n",
       "    .dataframe tbody tr th {\n",
       "        vertical-align: top;\n",
       "    }\n",
       "\n",
       "    .dataframe thead th {\n",
       "        text-align: right;\n",
       "    }\n",
       "</style>\n",
       "<table border=\"1\" class=\"dataframe\">\n",
       "  <thead>\n",
       "    <tr style=\"text-align: right;\">\n",
       "      <th></th>\n",
       "      <th>Length</th>\n",
       "      <th>Diameter</th>\n",
       "      <th>Height</th>\n",
       "      <th>Whole_weight</th>\n",
       "      <th>Shucked_weight</th>\n",
       "      <th>Viscera_weight</th>\n",
       "      <th>Shell_weight</th>\n",
       "      <th>Rings</th>\n",
       "    </tr>\n",
       "  </thead>\n",
       "  <tbody>\n",
       "    <tr>\n",
       "      <th>count</th>\n",
       "      <td>4172.000000</td>\n",
       "      <td>4172.000000</td>\n",
       "      <td>4172.000000</td>\n",
       "      <td>4172.000000</td>\n",
       "      <td>4172.000000</td>\n",
       "      <td>4172.000000</td>\n",
       "      <td>4172.000000</td>\n",
       "      <td>4172.000000</td>\n",
       "    </tr>\n",
       "    <tr>\n",
       "      <th>mean</th>\n",
       "      <td>104.810882</td>\n",
       "      <td>81.585091</td>\n",
       "      <td>27.853308</td>\n",
       "      <td>165.761074</td>\n",
       "      <td>71.867210</td>\n",
       "      <td>36.122795</td>\n",
       "      <td>47.762967</td>\n",
       "      <td>9.934324</td>\n",
       "    </tr>\n",
       "    <tr>\n",
       "      <th>std</th>\n",
       "      <td>24.014050</td>\n",
       "      <td>19.844026</td>\n",
       "      <td>7.675201</td>\n",
       "      <td>98.004299</td>\n",
       "      <td>44.344303</td>\n",
       "      <td>21.906201</td>\n",
       "      <td>27.836310</td>\n",
       "      <td>3.224294</td>\n",
       "    </tr>\n",
       "    <tr>\n",
       "      <th>min</th>\n",
       "      <td>15.000000</td>\n",
       "      <td>11.000000</td>\n",
       "      <td>2.000000</td>\n",
       "      <td>0.400000</td>\n",
       "      <td>0.200000</td>\n",
       "      <td>0.100000</td>\n",
       "      <td>0.300000</td>\n",
       "      <td>1.000000</td>\n",
       "    </tr>\n",
       "    <tr>\n",
       "      <th>25%</th>\n",
       "      <td>90.000000</td>\n",
       "      <td>70.000000</td>\n",
       "      <td>23.000000</td>\n",
       "      <td>88.375000</td>\n",
       "      <td>37.200000</td>\n",
       "      <td>18.700000</td>\n",
       "      <td>26.000000</td>\n",
       "      <td>8.000000</td>\n",
       "    </tr>\n",
       "    <tr>\n",
       "      <th>50%</th>\n",
       "      <td>109.000000</td>\n",
       "      <td>85.000000</td>\n",
       "      <td>28.000000</td>\n",
       "      <td>160.000000</td>\n",
       "      <td>67.200000</td>\n",
       "      <td>34.200000</td>\n",
       "      <td>46.800000</td>\n",
       "      <td>9.000000</td>\n",
       "    </tr>\n",
       "    <tr>\n",
       "      <th>75%</th>\n",
       "      <td>123.000000</td>\n",
       "      <td>96.000000</td>\n",
       "      <td>33.000000</td>\n",
       "      <td>230.650000</td>\n",
       "      <td>100.400000</td>\n",
       "      <td>50.600000</td>\n",
       "      <td>65.725000</td>\n",
       "      <td>11.000000</td>\n",
       "    </tr>\n",
       "    <tr>\n",
       "      <th>max</th>\n",
       "      <td>163.000000</td>\n",
       "      <td>130.000000</td>\n",
       "      <td>50.000000</td>\n",
       "      <td>565.100000</td>\n",
       "      <td>297.600000</td>\n",
       "      <td>152.000000</td>\n",
       "      <td>201.000000</td>\n",
       "      <td>29.000000</td>\n",
       "    </tr>\n",
       "  </tbody>\n",
       "</table>\n",
       "</div>"
      ],
      "text/plain": [
       "            Length     Diameter       Height  Whole_weight  Shucked_weight  \\\n",
       "count  4172.000000  4172.000000  4172.000000   4172.000000     4172.000000   \n",
       "mean    104.810882    81.585091    27.853308    165.761074       71.867210   \n",
       "std      24.014050    19.844026     7.675201     98.004299       44.344303   \n",
       "min      15.000000    11.000000     2.000000      0.400000        0.200000   \n",
       "25%      90.000000    70.000000    23.000000     88.375000       37.200000   \n",
       "50%     109.000000    85.000000    28.000000    160.000000       67.200000   \n",
       "75%     123.000000    96.000000    33.000000    230.650000      100.400000   \n",
       "max     163.000000   130.000000    50.000000    565.100000      297.600000   \n",
       "\n",
       "       Viscera_weight  Shell_weight        Rings  \n",
       "count     4172.000000   4172.000000  4172.000000  \n",
       "mean        36.122795     47.762967     9.934324  \n",
       "std         21.906201     27.836310     3.224294  \n",
       "min          0.100000      0.300000     1.000000  \n",
       "25%         18.700000     26.000000     8.000000  \n",
       "50%         34.200000     46.800000     9.000000  \n",
       "75%         50.600000     65.725000    11.000000  \n",
       "max        152.000000    201.000000    29.000000  "
      ]
     },
     "execution_count": 21,
     "metadata": {},
     "output_type": "execute_result"
    }
   ],
   "source": [
    "outlier_mask = df['Height'] == 0\n",
    "df = df[~outlier_mask]\n",
    "outlier_mask = df['Height'] == 103\n",
    "df = df[~outlier_mask]\n",
    "outlier_mask = df['Height'] == 226\n",
    "df = df[~outlier_mask]\n",
    "\n",
    "df.describe()"
   ]
  },
  {
   "cell_type": "markdown",
   "metadata": {},
   "source": [
    "We can see that we've removed the extreme values from the data. Now we can try the histogram again."
   ]
  },
  {
   "cell_type": "code",
   "execution_count": 22,
   "metadata": {
    "jupyter": {
     "source_hidden": true
    },
    "tags": []
   },
   "outputs": [
    {
     "name": "stdout",
     "output_type": "stream",
     "text": [
      "Freeman Diaconis for Height: 24 bins\n"
     ]
    },
    {
     "data": {
      "image/png": "[encoded data removed]",
      "text/plain": [
       "<Figure size 700x500 with 2 Axes>"
      ]
     },
     "metadata": {},
     "output_type": "display_data"
    }
   ],
   "source": [
    "diameter_bins = histogram_w_whiskers(df, \"Height\")"
   ]
  },
  {
   "cell_type": "markdown",
   "metadata": {},
   "source": [
    "The histogram is much better now. Now we use the $histogram\\_trio()$ method to chart three different histograms, each with a different number of bins."
   ]
  },
  {
   "cell_type": "code",
   "execution_count": 23,
   "metadata": {
    "jupyter": {
     "source_hidden": true
    },
    "tags": []
   },
   "outputs": [
    {
     "name": "stdout",
     "output_type": "stream",
     "text": [
      "Freeman Diaconis for Height: 24 bins\n"
     ]
    },
    {
     "data": {
      "image/png": "[encoded data removed]",
      "text/plain": [
       "<Figure size 2000x600 with 3 Axes>"
      ]
     },
     "metadata": {},
     "output_type": "display_data"
    }
   ],
   "source": [
    "histogram_trio(df, \"Height\", zoom=0.4)"
   ]
  },
  {
   "cell_type": "markdown",
   "metadata": {},
   "source": [
    "After using different numbers of bins, we see that the overall shape of the data remains consistent, and it still appears to follow a similar shape to the length and diameter charts.\n",
    "\n",
    "In summary, we found that abalone heights range from 2 to 50 mm, with an average of 28 mm. We also found that the height measurement seems to be directly related to the length and diameter measurements."
   ]
  },
  {
   "cell_type": "markdown",
   "metadata": {
    "colab_type": "text",
    "id": "VYRVa9cu3fGA"
   },
   "source": [
    "<a id=\"Whole weight\"></a>\n",
    "## Whole weight"
   ]
  },
  {
   "cell_type": "markdown",
   "metadata": {},
   "source": [
    "The Whole Weight variable is the weight of the whole abalone, including the shell and the meat. It is a continuous numerical variable measured in grams.\n",
    "\n",
    "**Domain Knowledge**\n",
    "\n",
    "Live abalone range from 250 - 350 grams when fully grown.\n",
    "\n",
    "Data Source: [sydneyfishmarket.com](https://www.sydneyfishmarket.com.au/Home/Seafood/Species-Information/List/Blacklip-Abalone#:~:text=Live%20Abalone%20is%20250g%2D350g,the%20shell%20measuring%2013%2D17cm.&text=One%20of%20Australia's%20most%20highly,for%20around%20A%24100%2Fkg.)\n",
    "Retrieved on October 16, 2023.\n",
    "\n",
    "\n",
    "**Hypothesis**\n",
    "\n",
    "We predict that the abalone weights range from a low value of about 1 gram all the way up to 350 grams or a little lower. We also predict that the weight distribution will look similar to the length measurements.\n",
    "\n",
    "First we start out using the describe() method to get some preliminary summary statistics of our data."
   ]
  },
  {
   "cell_type": "code",
   "execution_count": 24,
   "metadata": {
    "jupyter": {
     "source_hidden": true
    },
    "tags": []
   },
   "outputs": [
    {
     "data": {
      "text/plain": [
       "count    4172.000000\n",
       "mean      165.761074\n",
       "std        98.004299\n",
       "min         0.400000\n",
       "25%        88.375000\n",
       "50%       160.000000\n",
       "75%       230.650000\n",
       "max       565.100000\n",
       "Name: Whole_weight, dtype: float64"
      ]
     },
     "execution_count": 24,
     "metadata": {},
     "output_type": "execute_result"
    }
   ],
   "source": [
    "df.Whole_weight.describe()"
   ]
  },
  {
   "cell_type": "markdown",
   "metadata": {},
   "source": [
    "The summary statistics show that the whole abalone weights exceed our hypothesis. The minimum whole weight is 0.4 grams, and the maxium is 565 grams. It is difficult to tell whether these are extreme or erroneous weights. We can use a histogram to see if this may be the case.\n",
    "\n",
    "Now we use a histogram using Freeman Diaconis bins as well as a box-and-whiskers plot. These charts will allow us to see the distribution better. We expect to see a distribution with some large extreme values."
   ]
  },
  {
   "cell_type": "code",
   "execution_count": 25,
   "metadata": {
    "jupyter": {
     "source_hidden": true
    },
    "tags": []
   },
   "outputs": [
    {
     "name": "stdout",
     "output_type": "stream",
     "text": [
      "Freeman Diaconis for Whole_weight: 32 bins\n"
     ]
    },
    {
     "data": {
      "image/png": "[encoded data removed]",
      "text/plain": [
       "<Figure size 700x500 with 2 Axes>"
      ]
     },
     "metadata": {},
     "output_type": "display_data"
    }
   ],
   "source": [
    "Whole_weight_bins = histogram_w_whiskers(df, \"Whole_weight\")"
   ]
  },
  {
   "cell_type": "markdown",
   "metadata": {},
   "source": [
    "It does not appear that there are extreme/erroneous values in the weight data. This may be because we eliminated the erroneous data rows in a previous step.\n",
    "\n",
    "We notice that this whole weight distribution is not the same as the length variables' distributions. Instead, the whole weight data is shifted to the left, and has a trailing end to the right with extreme values. This is likely becuase the length grows quickly at first but slowly later, whereas the weight grows at a more steady rate independent of the shell growth. Thus, the weight distribution roughly follows the age distribution (the rings distribution). Most abalone that are found are younger/middle aged, whereas older abalone are more rare.\n",
    "\n",
    "Now we use the $histogram\\_trio()$ method to chart three different histograms, each with a different number of bins."
   ]
  },
  {
   "cell_type": "code",
   "execution_count": 26,
   "metadata": {
    "jupyter": {
     "source_hidden": true
    },
    "tags": []
   },
   "outputs": [
    {
     "name": "stdout",
     "output_type": "stream",
     "text": [
      "Freeman Diaconis for Whole_weight: 32 bins\n"
     ]
    },
    {
     "data": {
      "image/png": "[encoded data removed]",
      "text/plain": [
       "<Figure size 2000x600 with 3 Axes>"
      ]
     },
     "metadata": {},
     "output_type": "display_data"
    }
   ],
   "source": [
    "histogram_trio(df, \"Whole_weight\", zoom=0.4)"
   ]
  },
  {
   "cell_type": "markdown",
   "metadata": {},
   "source": [
    "After using different numbers of bins, we see that the overall shape of the data remains consistent, and it still appears to follow a similar shape to the rings charts.\n",
    "\n",
    "In summary, we found that abalone weights range from 0.4 grams to 565 grams. We also found that the abalone weight does not follow the same distribution as the shell lengths. Instead, the whole weight variable more closely follows the Rings variable. "
   ]
  },
  {
   "cell_type": "markdown",
   "metadata": {
    "colab_type": "text",
    "id": "VYRVa9cu3fGA"
   },
   "source": [
    "<a id=\"Shucked weight\"></a>\n",
    "## Shucked weight"
   ]
  },
  {
   "cell_type": "markdown",
   "metadata": {},
   "source": [
    "Shucked Weight is a continuous numerical variable that is measured in grams. \n",
    "\n",
    "**Domain Knowledge**\n",
    "\n",
    "Shucking is the process of removing the shells from shellfish. The Shucked Weight represents the weight of the meat after being removed from the shell.\n",
    "\n",
    "**Hypothesis**\n",
    "\n",
    "We predict that the Shucked weight variable will follow the same distribution as the whole weight variable. We predict that the shucked weights will be somewhat smaller than the whole weights, since the shells have been removed.\n",
    "\n",
    "First we start out using the describe() method to get some preliminary summary statistics of our data."
   ]
  },
  {
   "cell_type": "code",
   "execution_count": 27,
   "metadata": {
    "jupyter": {
     "source_hidden": true
    },
    "tags": []
   },
   "outputs": [
    {
     "data": {
      "text/plain": [
       "count    4172.000000\n",
       "mean       71.867210\n",
       "std        44.344303\n",
       "min         0.200000\n",
       "25%        37.200000\n",
       "50%        67.200000\n",
       "75%       100.400000\n",
       "max       297.600000\n",
       "Name: Shucked_weight, dtype: float64"
      ]
     },
     "execution_count": 27,
     "metadata": {},
     "output_type": "execute_result"
    }
   ],
   "source": [
    "df.Shucked_weight.describe()"
   ]
  },
  {
   "cell_type": "markdown",
   "metadata": {},
   "source": [
    "The summary statistics support our hypothesis. The shucked weights are less than the whole weights. The mean shucked weight is 72 grams whereas the mean whole weight is 166 grams.\n",
    "\n",
    "Now we use a histogram using Freeman Diaconis bins as well as a box-and-whiskers plot. These charts will allow us to see the distribution better. We expect to see a distribution similar to the whole weight distribution."
   ]
  },
  {
   "cell_type": "code",
   "execution_count": 28,
   "metadata": {
    "jupyter": {
     "source_hidden": true
    },
    "tags": []
   },
   "outputs": [
    {
     "name": "stdout",
     "output_type": "stream",
     "text": [
      "Freeman Diaconis for Shucked_weight: 38 bins\n"
     ]
    },
    {
     "data": {
      "image/png": "[encoded data removed]",
      "text/plain": [
       "<Figure size 700x500 with 2 Axes>"
      ]
     },
     "metadata": {},
     "output_type": "display_data"
    }
   ],
   "source": [
    "Shucked_weight_bins = histogram_w_whiskers(df, \"Shucked_weight\")"
   ]
  },
  {
   "cell_type": "markdown",
   "metadata": {},
   "source": [
    "As we expected, the distribution of the shucked weight looks quite similar to the distribution of the whole weight. This is because shucked weight and whole weight are directly related.\n",
    "\n",
    "Now we use the $histogram\\_trio()$ method to chart three different histograms, each with a different number of bins."
   ]
  },
  {
   "cell_type": "code",
   "execution_count": null,
   "metadata": {
    "jupyter": {
     "source_hidden": true
    },
    "tags": []
   },
   "outputs": [
    {
     "name": "stdout",
     "output_type": "stream",
     "text": [
      "Freeman Diaconis for Shucked_weight: 38 bins\n"
     ]
    }
   ],
   "source": [
    "histogram_trio(df, \"Shucked_weight\", zoom=0.4)"
   ]
  },
  {
   "cell_type": "markdown",
   "metadata": {},
   "source": [
    "After using different numbers of bins, we see that the overall shape of the data remains consistent, and it still appears to follow a similar shape to the whole weight chart.\n",
    "\n",
    "In summary, we found that abalone shucked weights range from 0.2 grams to 298 grams. We also found that the shucked weight closely follows the distribution of the whole weight."
   ]
  },
  {
   "cell_type": "markdown",
   "metadata": {
    "colab_type": "text",
    "id": "VYRVa9cu3fGA"
   },
   "source": [
    "<a id=\"Viscera weight\"></a>\n",
    "## Viscera weight"
   ]
  },
  {
   "cell_type": "markdown",
   "metadata": {},
   "source": [
    "Viscera weight is a continuous numerical variable measured in grams.\n",
    "\n",
    "**Domain Knowledge**\n",
    "\n",
    "As abalone are harvested, their guts are removed to leave only the meat. The guts are measured after bleeding.\n",
    "\n",
    "**Hypothesis**\n",
    "\n",
    "We predict that the viscera weight will be less than both the whole weight and the shucked weight, and will follow the same distribution as both.\n",
    "\n",
    "First we start out using the describe() method to get some preliminary summary statistics of our data."
   ]
  },
  {
   "cell_type": "code",
   "execution_count": null,
   "metadata": {
    "jupyter": {
     "source_hidden": true
    },
    "tags": []
   },
   "outputs": [],
   "source": [
    "df.Viscera_weight.describe()"
   ]
  },
  {
   "cell_type": "markdown",
   "metadata": {},
   "source": [
    "The summary statistics support our hypothesis. The viscera weights are less than the whole and shucked weights. The mean viscera weight is 36 grams whereas the mean whole weight is 166 grams and the mean shucked weight is 72 grams.\n",
    "\n",
    "Now we use a histogram using Freeman Diaconis bins as well as a box-and-whiskers plot. These charts will allow us to see the distribution better. We expect to see a distribution similar to the whole weight distribution."
   ]
  },
  {
   "cell_type": "code",
   "execution_count": null,
   "metadata": {
    "jupyter": {
     "source_hidden": true
    },
    "tags": []
   },
   "outputs": [],
   "source": [
    "Viscera_weight_bins = histogram_w_whiskers(df, \"Viscera_weight\")"
   ]
  },
  {
   "cell_type": "markdown",
   "metadata": {},
   "source": [
    "As we expected, the distribution of the viscera weight looks similar to the distributions of both whole weight and shucked weight. This is because abalone with heavy weights are more likely to also have heavy guts. In other words, they are all directly related.\n",
    "\n",
    "Now we use the $histogram\\_trio()$ method to chart three different histograms, each with a different number of bins."
   ]
  },
  {
   "cell_type": "code",
   "execution_count": null,
   "metadata": {
    "jupyter": {
     "source_hidden": true
    },
    "tags": []
   },
   "outputs": [],
   "source": [
    "histogram_trio(df, \"Viscera_weight\", zoom=0.4)"
   ]
  },
  {
   "cell_type": "markdown",
   "metadata": {},
   "source": [
    "After using different numbers of bins, we see that the overall shape of the data remains consistent, and it still appears to follow a similar shape to the whole weight and shucked weight charts.\n",
    "\n",
    "In summary, we found that abalone viscera weights range from 0.1 grams to 152 grams. We also found that the viscera weight closely follows the distribution of the whole weight and shucked weight."
   ]
  },
  {
   "cell_type": "markdown",
   "metadata": {
    "colab_type": "text",
    "id": "VYRVa9cu3fGA"
   },
   "source": [
    "<a id=\"Shell weight\"></a>\n",
    "## Shell weight"
   ]
  },
  {
   "cell_type": "markdown",
   "metadata": {},
   "source": [
    "Shell weight is a continuous numerical variable measured in grams.\n",
    "\n",
    "**Domain Knowledge**\n",
    "\n",
    "Abalone shells are valuable because of their highly desirable iridescent shells. Abalone shells look regular from the outside, but on the inside they contain a thick layer of iridescent mother-of-pearl that lends itself for use in home decor and jewelry.\n",
    "\n",
    "Data Source: [treehugger.com](https://www.treehugger.com/abalone-facts-5180643#:~:text=They%20Have%20Highly%20Desirable%20Iridescent%20Shells&text=While%20they%20may%20look%20unexciting,into%20home%20decor%20and%20jewelry.)\n",
    "Retrieved on October 16, 2023.\n",
    "\n",
    "**Hypothesis**\n",
    "\n",
    "We predict that the shell weight will be less than the whole weight, and that it will follow a distribution more similar to the length variable than the whole weight variable.\n",
    "\n",
    "First we start out using the describe() method to get some preliminary summary statistics of our data."
   ]
  },
  {
   "cell_type": "code",
   "execution_count": null,
   "metadata": {
    "jupyter": {
     "source_hidden": true
    },
    "tags": []
   },
   "outputs": [],
   "source": [
    "df.Shell_weight.describe()"
   ]
  },
  {
   "cell_type": "markdown",
   "metadata": {},
   "source": [
    "The summary statistics support part of our hypothesis. The shell weights are indeed less than the whole weights. The mean shell weight is 48 grams whereas the mean whole weight is 166.\n",
    "\n",
    "Now we use a histogram using Freeman Diaconis bins as well as a box-and-whiskers plot. These charts will allow us to see the distribution better. We expect to see a distribution similar to the length variable distributions."
   ]
  },
  {
   "cell_type": "code",
   "execution_count": null,
   "metadata": {
    "jupyter": {
     "source_hidden": true
    },
    "tags": []
   },
   "outputs": [],
   "source": [
    "Shell_weight_bins = histogram_w_whiskers(df, \"Shell_weight\")"
   ]
  },
  {
   "cell_type": "markdown",
   "metadata": {},
   "source": [
    "Interestingly, our hypothesis does not seem to be supported by the data. The shell weight distribution seems very similar to the various weight variables, but we predicted that the shell weight distribution would look similar to the length distributions. It would appear that shell weight also increases steadily throughout an abalone's life, but the shell size increases quickly at first and then gradually as it gets older.\n",
    "\n",
    "Now we use the $histogram\\_trio()$ method to chart three different histograms, each with a different number of bins."
   ]
  },
  {
   "cell_type": "code",
   "execution_count": null,
   "metadata": {
    "jupyter": {
     "source_hidden": true
    },
    "tags": []
   },
   "outputs": [],
   "source": [
    "histogram_trio(df, \"Viscera_weight\", zoom=0.4)"
   ]
  },
  {
   "cell_type": "markdown",
   "metadata": {},
   "source": [
    "After using different numbers of bins, we see that the overall shape of the data remains consistent, and it still appears to follow a similar shape to the whole weight and shucked weight charts.\n",
    "\n",
    "In summary, we found that abalone shell weights range from 0.3 grams to 201 grams. We also found that the shell weights data follows a similar distribution to the whole weight distribution."
   ]
  },
  {
   "cell_type": "code",
   "execution_count": null,
   "metadata": {
    "jupyter": {
     "source_hidden": true
    },
    "tags": []
   },
   "outputs": [],
   "source": [
    "def describe_by_category(data, numeric, categorical, transpose=False):\n",
    "    grouped = data.groupby(categorical)\n",
    "    grouped_y = grouped[numeric].describe()\n",
    "    if transpose:\n",
    "        print(grouped_y.transpose())\n",
    "    else:\n",
    "        print(grouped_y)"
   ]
  },
  {
   "cell_type": "code",
   "execution_count": null,
   "metadata": {
    "jupyter": {
     "source_hidden": true
    },
    "tags": []
   },
   "outputs": [],
   "source": [
    "def lowess_scatter(data, x, y, jitter=0.0, skip_lowess=False):\n",
    "    \n",
    "    if skip_lowess:\n",
    "        fit = np.polyfit(data[x], data[y], 1)\n",
    "        line_x = np.linspace(data[x].min(), data[x].max(), 10)\n",
    "        line = np.poly1d(fit)\n",
    "        line_y = list(map(line, line_x))\n",
    "    else:\n",
    "        lowess = sm.nonparametric.lowess(data[y], data[x], frac=.3)\n",
    "        line_x = list(zip(*lowess))[0]\n",
    "        line_y = list(zip(*lowess))[1]\n",
    "    \n",
    "    figure = plt.figure(figsize=(10, 6))\n",
    "    \n",
    "    axes = figure.add_subplot(1, 1, 1)\n",
    "    \n",
    "    xs = data[x]\n",
    "    if jitter > 0.0:\n",
    "        xs = data[x] + stats.norm.rvs( 0, 0.5, data[x].size)\n",
    "    \n",
    "    axes.scatter(xs, data[y], marker=\"o\", color=\"DimGray\", alpha=0.5)\n",
    "    axes.plot(line_x, line_y, color=\"DarkRed\")\n",
    "    \n",
    "    title = \"Plot of {0} v. {1}\".format(x, y)\n",
    "    if not skip_lowess:\n",
    "        title += \" with LOWESS\"\n",
    "    axes.set_title(title)\n",
    "    axes.set_xlabel(x)\n",
    "    axes.set_ylabel(y)\n",
    "    \n",
    "    plt.show()\n",
    "    plt.close()"
   ]
  },
  {
   "cell_type": "markdown",
   "metadata": {},
   "source": [
    "## Pairwise EDA\n",
    "\n",
    "Now that we have looked at each variable individually, we will look at pairs of variable. More specifically, we will be looking at each of the variables paired with our target variable, **Rings**. Our goal is to see how each of the variables affects the number of rings on an abalone shell.\n",
    "\n",
    "<a href=\"#Rings vs Sex\">Rings vs Sex</a><br>\n",
    "<a href=\"#Rings vs Length\">Rings vs Length</a><br>\n",
    "<a href=\"#Rings vs Diameter\">Rings vs Diameter</a><br>\n",
    "<a href=\"#Rings vs Height\">Rings vs Height</a><br>\n",
    "<a href=\"#Rings vs Whole weight\">Rings vs Whole weight</a><br>\n",
    "<a href=\"#Rings vs Shucked weight\">Rings vs Shucked weight</a><br>\n",
    "<a href=\"#Rings vs Viscera weight\">Rings vs Viscera weight</a><br>\n",
    "<a href=\"#Rings vs Shell weight\">Rings vs Shell weight</a>"
   ]
  },
  {
   "cell_type": "markdown",
   "metadata": {
    "colab_type": "text",
    "id": "VYRVa9cu3fGA"
   },
   "source": [
    "<a id=\"Rings vs Sex\"></a>\n",
    "## Rings vs Sex\n",
    "\n",
    "It is possible that Rings and Sex have somewhat of a correlation, but we guess that it is not strong. When we looked at the data, we saw that there are slightly more male abalone than female abalone. If this trend is caused by male abalone living longer than female abalone, then we may see some sort of a correlation.\n",
    "\n",
    "Here are the summary statistics for Rings, grouped by Sex."
   ]
  },
  {
   "cell_type": "code",
   "execution_count": null,
   "metadata": {
    "jupyter": {
     "source_hidden": true
    },
    "scrolled": true,
    "tags": []
   },
   "outputs": [],
   "source": [
    "describe_by_category(df, \"Rings\", \"Sex\", transpose=True)"
   ]
  },
  {
   "cell_type": "markdown",
   "metadata": {},
   "source": [
    "There does not seem to be a large difference between male and female rings. The mean ring count for males is 10.7 and the mean ring count for females is 11.1. However, there is a difference when compared to infants. Infants have a mean ring count of only 7.9, which is definitely less than both males and females. This result should come as no surprise, as infants have not had as much time on average to grow higher numbers of rings.\n",
    "\n",
    "Now let's make histograms for each sex so that they may be compared."
   ]
  },
  {
   "cell_type": "code",
   "execution_count": null,
   "metadata": {
    "jupyter": {
     "source_hidden": true
    },
    "scrolled": true,
    "tags": []
   },
   "outputs": [],
   "source": [
    "grouped = df.groupby(\"Sex\")\n",
    "\n",
    "figure = plt.figure(figsize=(20, 6))\n",
    "\n",
    "axes = figure.add_subplot(1, 3, 1)\n",
    "\n",
    "observations = len(grouped[\"Rings\"].get_group(\"M\"))\n",
    "empirical_weights = np.ones(observations)/observations # this converts counts to relative frequencies when used in hist()\n",
    "\n",
    "axes.hist(grouped[\"Rings\"].get_group(\"M\"),bins=20,color=\"dimgray\", weights=empirical_weights)\n",
    "axes.set_title(\"Male Rings distribution - Freeman Diaconis\")\n",
    "axes.set_xlabel(\"Rings\")\n",
    "axes.set_ylim((0,.6))\n",
    "axes.set_ylabel(\"Relative Frequency\")\n",
    "\n",
    "observations = len(grouped[\"Rings\"].get_group(\"F\"))\n",
    "empirical_weights = np.ones(observations)/observations # this converts counts to relative frequencies when used in hist()\n",
    "\n",
    "axes = figure.add_subplot(1, 3, 2)\n",
    "axes.hist(grouped[\"Rings\"].get_group(\"F\"),bins=20,color=\"dimgray\", weights=empirical_weights)\n",
    "axes.set_title(\"Female Rings distribution - Freeman Diaconis\")\n",
    "axes.set_xlabel(\"Rings\")\n",
    "axes.set_ylim((0,.6))\n",
    "\n",
    "observations = len(grouped[\"Rings\"].get_group(\"I\"))\n",
    "empirical_weights = np.ones(observations)/observations # this converts counts to relative frequencies when used in hist()\n",
    "\n",
    "axes = figure.add_subplot(1, 3, 3)\n",
    "axes.hist(grouped[\"Rings\"].get_group(\"I\"),bins=20,color=\"dimgray\", weights=empirical_weights)\n",
    "axes.set_title(\"Infant Rings distribution - Freeman Diaconis\")\n",
    "axes.set_xlabel(\"Rings\")\n",
    "axes.set_ylim((0,.6))\n",
    "\n",
    "plt.show()\n",
    "plt.close()"
   ]
  },
  {
   "cell_type": "markdown",
   "metadata": {},
   "source": [
    "We can see more clearly how infants have fewer rings on average than both males and females. Males and females follow roughly the same distribution as well. Females have a spike right around 9 rings, whereas males have a spike at 12 but a sharp dropoff after that. "
   ]
  },
  {
   "cell_type": "markdown",
   "metadata": {
    "colab_type": "text",
    "id": "VYRVa9cu3fGA"
   },
   "source": [
    "<a id=\"Rings vs Length\"></a>\n",
    "## Rings vs Length\n",
    "\n",
    "We expect that length has some effect on rings but the effect is somewhat limited. During our single variable EDA we observed that the rings distribution was concentrated to the left but the length distribution was concentrated to the right, so we don't expect the correlation to be perfect.\n",
    "\n",
    "\n",
    "Here are the correlation coefficients:"
   ]
  },
  {
   "cell_type": "code",
   "execution_count": null,
   "metadata": {
    "jupyter": {
     "source_hidden": true
    },
    "scrolled": true,
    "tags": []
   },
   "outputs": [],
   "source": [
    "print(\"r   = \", stats.pearsonr(df.Rings, df.Length)[0])\n",
    "print(\"rho = \", stats.spearmanr(df.Rings, df.Length)[0])"
   ]
  },
  {
   "cell_type": "markdown",
   "metadata": {},
   "source": [
    "Pearson's correlation coefficient, $r$, is 0.56 which indicates a moderate positive relationship. This finding supports our hypothesis that length and rings are somewhat correlated but not strongly. Spearman's is also at 0.60, indicating a moderate positive relationship as well. \n",
    "\n",
    "Here's a scatter plot of the variables with a LOWESS line."
   ]
  },
  {
   "cell_type": "code",
   "execution_count": null,
   "metadata": {
    "jupyter": {
     "source_hidden": true
    },
    "tags": []
   },
   "outputs": [],
   "source": [
    "lowess_scatter(df, \"Length\", \"Rings\", jitter=0, skip_lowess=False)"
   ]
  },
  {
   "cell_type": "markdown",
   "metadata": {},
   "source": [
    "We can see that as length increases, so to do the number of Rings. However, the shape of the scatter plot is odd. \n",
    "\n",
    "Let's try flipping the axes and adding some jitter."
   ]
  },
  {
   "cell_type": "code",
   "execution_count": null,
   "metadata": {
    "jupyter": {
     "source_hidden": true
    },
    "tags": []
   },
   "outputs": [],
   "source": [
    "lowess_scatter(df, \"Rings\", \"Length\", jitter=.1, skip_lowess=False)"
   ]
  },
  {
   "cell_type": "markdown",
   "metadata": {},
   "source": [
    "Charting this data in this orientation highlights some very interesting findings. Because we know that an abalone creates a new ring every year, the x-axis can be thought of as the age of the abalone. We see that in the first 10 years of the abalone's life, it's length increases very quickly. But after 10 years, it's length increases slowly but at a steady rate. This is consistent with the domain knowledge we gathered when performing single-variable EDA for the length variable that said that abalone grow quickly for the first few years of their life, and then grows very slowly for the remainder. This chart clearly shows the relationship between length and rings for abalone."
   ]
  },
  {
   "cell_type": "markdown",
   "metadata": {
    "colab_type": "text",
    "id": "VYRVa9cu3fGA"
   },
   "source": [
    "<a id=\"Rings vs Diameter\"></a>\n",
    "## Rings vs Diameter\n",
    "\n",
    "We expect that diameter also has some effect on the number of rings on an abalone shell. We predict that diameter has a very similar effect on rings as the length variable, since we found during single-variable EDA that length and diameter have very similar distributions."
   ]
  },
  {
   "cell_type": "code",
   "execution_count": null,
   "metadata": {
    "jupyter": {
     "source_hidden": true
    },
    "scrolled": true,
    "tags": []
   },
   "outputs": [],
   "source": [
    "print(\"r   = \", stats.pearsonr(df.Rings, df.Diameter)[0])\n",
    "print(\"rho = \", stats.spearmanr(df.Rings, df.Diameter)[0])"
   ]
  },
  {
   "cell_type": "markdown",
   "metadata": {},
   "source": [
    "Pearson's correlation coefficient, $r$, is 0.57 which indicates a moderate positive relationship. This finding supports our hypothesis that diameter and rings are somewhat correlated but not strongly. Spearman's is also at 0.62, indicating a moderate positive relationship as well. These correlation coefficients are slightly stronger but very similar to the coefficients for length vs. rings, which is in line with our expectation.\n",
    "\n",
    "Here's a scatter plot of the variables with a LOWESS line."
   ]
  },
  {
   "cell_type": "code",
   "execution_count": null,
   "metadata": {
    "jupyter": {
     "source_hidden": true
    },
    "tags": []
   },
   "outputs": [],
   "source": [
    "lowess_scatter(df, \"Diameter\", \"Rings\", jitter=0, skip_lowess=False)"
   ]
  },
  {
   "cell_type": "markdown",
   "metadata": {},
   "source": [
    "Once again, we see the number of rings increase with diameter, similar to length. But the plot seems to tell us more.\n",
    "\n",
    "Let's try flipping the axes again and adding some jitter."
   ]
  },
  {
   "cell_type": "code",
   "execution_count": null,
   "metadata": {
    "jupyter": {
     "source_hidden": true
    },
    "tags": []
   },
   "outputs": [],
   "source": [
    "lowess_scatter(df, \"Rings\", \"Diameter\", jitter=.1, skip_lowess=False)"
   ]
  },
  {
   "cell_type": "markdown",
   "metadata": {},
   "source": [
    "We observe the same pattern that we saw with length; diameter increases quickly from years 0 to 10, and then increases very slowly from 10 years on. "
   ]
  },
  {
   "cell_type": "markdown",
   "metadata": {
    "colab_type": "text",
    "id": "VYRVa9cu3fGA"
   },
   "source": [
    "<a id=\"Rings vs Height\"></a>\n",
    "## Rings vs Height\n",
    "\n",
    "Because we observed length, diameter and height having very similar distributions, it follows that height has a similar relationship with rings as length and diameter. We expect height to increase quickly from years 0 to 10, and then increase slowly from years 10 and on.\n",
    "\n",
    "First we calculate the correlation coefficients."
   ]
  },
  {
   "cell_type": "code",
   "execution_count": null,
   "metadata": {
    "jupyter": {
     "source_hidden": true
    },
    "tags": []
   },
   "outputs": [],
   "source": [
    "print(\"r   = \", stats.pearsonr(df.Rings, df.Height)[0])\n",
    "print(\"rho = \", stats.spearmanr(df.Rings, df.Height)[0])"
   ]
  },
  {
   "cell_type": "markdown",
   "metadata": {},
   "source": [
    "Pearson's correlation coefficient, $r$, is 0.61 which indicates a moderate positive relationship. This finding supports our hypothesis that diameter and rings are somewhat correlated but not strongly. Spearman's is also at 0.66, indicating a moderate positive relationship as well. These correlation coefficients are once again slightly stronger but very similar to the coefficients for length vs. rings and diameter vs rings, which is in line with our expectation.\n",
    "\n",
    "Here's a scatter plot of the variables with a LOWESS line."
   ]
  },
  {
   "cell_type": "code",
   "execution_count": null,
   "metadata": {
    "jupyter": {
     "source_hidden": true
    },
    "tags": []
   },
   "outputs": [],
   "source": [
    "lowess_scatter(df, \"Height\", \"Rings\", jitter=0.1, skip_lowess=False)"
   ]
  },
  {
   "cell_type": "markdown",
   "metadata": {},
   "source": [
    "Once again, we see the number of rings increase with height, similar to length and diameter. But the plot seems to tell us more.\n",
    "\n",
    "Let's try flipping the axes again and adding some jitter."
   ]
  },
  {
   "cell_type": "code",
   "execution_count": null,
   "metadata": {
    "jupyter": {
     "source_hidden": true
    },
    "tags": []
   },
   "outputs": [],
   "source": [
    "lowess_scatter(df, \"Rings\", \"Height\", jitter=.1, skip_lowess=False)"
   ]
  },
  {
   "cell_type": "markdown",
   "metadata": {},
   "source": [
    "We observe the same pattern that we saw with both length and diameter; height increases quickly from years 0 to 10, and then increases very slowly from 10 years on. \n",
    "\n",
    "It would appear that length, diameter and height all have the same relationship with rings. This makes sense, because we observed during single variable EDA that all three of these length measurements follow the same distribution, and our domain knowledge tells us that they should all be very closely related. We observe that as the number of rings increase, all three of the length variables increase quickly from years 0 to 10, and then increase slowly from 10 years on."
   ]
  },
  {
   "cell_type": "markdown",
   "metadata": {
    "colab_type": "text",
    "id": "VYRVa9cu3fGA"
   },
   "source": [
    "<a id=\"Rings vs Whole weight\"></a>\n",
    "## Rings vs Whole weight\n",
    "\n",
    "Whole weight is our first weight measurement. We observed during single variable EDA that weight did not follow the same distribution as the length measurements. The length measurements had data values concentrated to the right of the histogram, which we conclude from domain knowledge is due to the fact that shells grow quickly at first and then slowly later on in life. But the weight measurement seems to follow a different distribution where values are concentrated to the left, which we assume means that abalone weight increases at a more constant rate than the shells. Thus, because both rings and weights should be increasing at constant rates, we assume higher correlations between the weight measurements and the number of rings on abalone shells.\n",
    "\n",
    "First we calculate the correlation coefficients."
   ]
  },
  {
   "cell_type": "code",
   "execution_count": null,
   "metadata": {
    "jupyter": {
     "source_hidden": true
    },
    "tags": []
   },
   "outputs": [],
   "source": [
    "print(\"r   = \", stats.pearsonr(df.Rings, df.Whole_weight)[0])\n",
    "print(\"rho = \", stats.spearmanr(df.Rings, df.Whole_weight)[0])"
   ]
  },
  {
   "cell_type": "markdown",
   "metadata": {},
   "source": [
    "Pearson's correlation coefficient, $r$, is 0.54 which indicates a moderate positive relationship. Spearman's is also at 0.63, indicating a moderate positive relationship as well. These findings do not fully support our hypothesis. These correlation coefficients are very similar to those of the length measurements, but we predicted that they would be greater than the length measurements.\n",
    "\n",
    "Let's try a scatter plot to get a better idea of what is going on."
   ]
  },
  {
   "cell_type": "code",
   "execution_count": null,
   "metadata": {
    "jupyter": {
     "source_hidden": true
    },
    "tags": []
   },
   "outputs": [],
   "source": [
    "lowess_scatter(df, \"Whole_weight\", \"Rings\", jitter=0.1, skip_lowess=False)"
   ]
  },
  {
   "cell_type": "markdown",
   "metadata": {},
   "source": [
    "The chart tells an interesting story. It appears that weight does not increase linearly with rings like we expected. It seems to increase in a different fashion. We observe that as whole weight increases, rings increases quickly at first, and the slowly as whole weight increases.\n",
    "\n",
    "Let's try flipping the axes and adding some jitter to get a better understanding."
   ]
  },
  {
   "cell_type": "code",
   "execution_count": null,
   "metadata": {
    "jupyter": {
     "source_hidden": true
    },
    "tags": []
   },
   "outputs": [],
   "source": [
    "lowess_scatter(df, \"Rings\", \"Whole_weight\", jitter=0.1, skip_lowess=False)"
   ]
  },
  {
   "cell_type": "markdown",
   "metadata": {},
   "source": [
    "Surprisingly, we observe a somewhat similar LOWESS line to the length measurements. The whole_weight increases quickly from 0 to 10 rings, and then increases slowly from 10 rings on. \n",
    "\n",
    "However, there is a noticeable difference here as well. Instead of increasing linearly from ages 0 to 10, the whole_weight variable seems to increase relatively slowly at first, and then quickly from age 6 to 10. It almost seems to increase quadratically from years 0 to 10. This would be more consistent with our first scatter plot, which shows clear non-linear behavior. \n",
    "\n",
    "It would seem as though abalone whole_weight increases slowly at first, then at the 6 year mark whole_weight increases quickly until about year 11, where it then slows down."
   ]
  },
  {
   "cell_type": "markdown",
   "metadata": {
    "colab_type": "text",
    "id": "VYRVa9cu3fGA"
   },
   "source": [
    "<a id=\"Rings vs Shucked weight\"></a>\n",
    "## Rings vs Shucked weight\n",
    "\n",
    "We expect shucked weight to have the same effect on the number of rings as the whole weight, since we observed during our single-variable EDA that all four of the weight measurements follow the same distribution. Thus, we expect rings to be moderately correlated with shucked weight. We also expect shucked weight to increase quickly from ages 0 to 10, and slowly from ages 10 and on.\n",
    "\n",
    "First we calculate the correlation coefficients."
   ]
  },
  {
   "cell_type": "code",
   "execution_count": null,
   "metadata": {
    "jupyter": {
     "source_hidden": true
    },
    "tags": []
   },
   "outputs": [],
   "source": [
    "print(\"r   = \", stats.pearsonr(df.Rings, df.Shucked_weight)[0])\n",
    "print(\"rho = \", stats.spearmanr(df.Rings, df.Shucked_weight)[0])"
   ]
  },
  {
   "cell_type": "markdown",
   "metadata": {},
   "source": [
    "Pearson's correlation coefficient, $r$, is 0.42 which indicates a low positive relationship. Spearman's is also at 0.54, indicating a moderate positive relationship. These correlation coefficients partially support our hypothesis. On the one hand, they are relatively similar to the whole weight, but on the other, the Pearson's $r$ value decreased from 0.54 to 0.42, and fell into the 'low' correlation tier. It is hard to tell if this different is significant until we see it visually.\n",
    "\n",
    "Let's try a scatter plot to get a better idea of what is going on."
   ]
  },
  {
   "cell_type": "code",
   "execution_count": null,
   "metadata": {
    "jupyter": {
     "source_hidden": true
    },
    "tags": []
   },
   "outputs": [],
   "source": [
    "lowess_scatter(df, \"Shucked_weight\", \"Rings\", jitter=0.1, skip_lowess=False)"
   ]
  },
  {
   "cell_type": "markdown",
   "metadata": {},
   "source": [
    "After charting the shucked weight against the number of rings, it does seem to follow a very similar distribution as the whole weight.\n",
    "\n",
    "Let's try flipping the axes and adding some jitter again."
   ]
  },
  {
   "cell_type": "code",
   "execution_count": null,
   "metadata": {
    "jupyter": {
     "source_hidden": true
    },
    "tags": []
   },
   "outputs": [],
   "source": [
    "lowess_scatter(df, \"Rings\", \"Shucked_weight\", jitter=0.1, skip_lowess=False)"
   ]
  },
  {
   "cell_type": "markdown",
   "metadata": {},
   "source": [
    "Again, the shucked weight vs rings chart looks very similar to the whole weight vs rings chart. This result is what we expected after seeing the similar distributions of the weight variables during single variable EDA.\n",
    "\n",
    "It would seem as though abalone shucked_weight increases slowly at first, then at the 6 year mark shucked_weight increases quickly until about year 11, where it then slows down."
   ]
  },
  {
   "cell_type": "markdown",
   "metadata": {
    "colab_type": "text",
    "id": "VYRVa9cu3fGA"
   },
   "source": [
    "<a id=\"Rings vs Viscera weight\"></a>\n",
    "## Rings vs Viscera weight\n",
    "\n",
    "Like the previous two weight measurements, we expect viscera weight to increase quickly at first, and then slowly after 10 rings.\n",
    "\n",
    "First we calculate the correlation coefficients."
   ]
  },
  {
   "cell_type": "code",
   "execution_count": null,
   "metadata": {
    "jupyter": {
     "source_hidden": true
    },
    "tags": []
   },
   "outputs": [],
   "source": [
    "print(\"r   = \", stats.pearsonr(df.Rings, df.Viscera_weight)[0])\n",
    "print(\"rho = \", stats.spearmanr(df.Rings, df.Viscera_weight)[0])"
   ]
  },
  {
   "cell_type": "markdown",
   "metadata": {},
   "source": [
    "Pearson's correlation coefficient, $r$, is back up to 0.50 which indicates a moderate positive relationship. Spearman's is also at 0.61, indicating a moderate positive relationship. These correlation coefficients support our hypothesis. They both indicate a moderate correlation between viscera weight and rings. They are also similar to the previous two weight measurements.\n",
    "\n",
    "Let's try a scatter plot to get a better idea of what is going on."
   ]
  },
  {
   "cell_type": "code",
   "execution_count": null,
   "metadata": {
    "jupyter": {
     "source_hidden": true
    },
    "tags": []
   },
   "outputs": [],
   "source": [
    "lowess_scatter(df, \"Viscera_weight\", \"Rings\", jitter=0.1, skip_lowess=False)"
   ]
  },
  {
   "cell_type": "markdown",
   "metadata": {},
   "source": [
    "After charting the shucked weight against the number of rings, it does seem to follow a very similar distribution as both the whole weight and the shucked weight. The chart almost looks identical to those two. \n",
    "\n",
    "Let's try flipping the axes and adding some jitter again."
   ]
  },
  {
   "cell_type": "code",
   "execution_count": null,
   "metadata": {
    "jupyter": {
     "source_hidden": true
    },
    "tags": []
   },
   "outputs": [],
   "source": [
    "lowess_scatter(df, \"Rings\", \"Viscera_weight\", jitter=0.1, skip_lowess=False)"
   ]
  },
  {
   "cell_type": "markdown",
   "metadata": {},
   "source": [
    "As we expected, the viscera weight vs rings chart looks very similar to the shucked weight and whole weight charts. \n",
    "\n",
    "It would seem as though abalone viscera_weight increases slowly at first, then at the 6 year mark viscera_weight increases quickly until about year 11, where it then slows down."
   ]
  },
  {
   "cell_type": "markdown",
   "metadata": {
    "colab_type": "text",
    "id": "VYRVa9cu3fGA"
   },
   "source": [
    "<a id=\"Rings vs Shell weight\"></a>\n",
    "## Rings vs Shell weight\n",
    "\n",
    "Once again, we expect shell weight to have a similar correlation with rings as the previous weight measurements. We expect that as rings increase, shell weight will increase slowly from years 0 to 6, then quickly until year 11, and then slowly from then on.\n",
    "\n",
    "First we calculate the correlation coefficients."
   ]
  },
  {
   "cell_type": "code",
   "execution_count": null,
   "metadata": {
    "jupyter": {
     "source_hidden": true
    },
    "tags": []
   },
   "outputs": [],
   "source": [
    "print(\"r   = \", stats.pearsonr(df.Rings, df.Shell_weight)[0])\n",
    "print(\"rho = \", stats.spearmanr(df.Rings, df.Shell_weight)[0])"
   ]
  },
  {
   "cell_type": "markdown",
   "metadata": {},
   "source": [
    "Pearson's correlation coefficient, $r$, is 0.63 which indicates a moderate positive relationship. Spearman's is also at 0.69, indicating a moderate positive relationship. These correlation coefficients support our hypothesis. They are similar to the correlation coefficients we calculated for the previous three weight variables.\n",
    "\n",
    "Interestingly, although these values are similar, they are noticeably stronger than the previous coefficients. The Pearson's $r$ coefficient increased from 0.50, 0.42 and 0.54 in the previous three weight measurements up to 0.63 for shell weight vs rings. Spearman's rho increased from 0.61, 0.54 and 0.63 up to 0.69 as well, almost putting it into the 'strong' correlation tier. \n",
    "\n",
    "This result makes sense, as we would expect the number of rings to be more closely correlated with shell weight than any of the other weight measurements, as shell rings likely directly add to shell weight. \n",
    "\n",
    "Let's try a scatter plot to see if we can visualize this stronger correlation."
   ]
  },
  {
   "cell_type": "code",
   "execution_count": null,
   "metadata": {
    "jupyter": {
     "source_hidden": true
    },
    "tags": []
   },
   "outputs": [],
   "source": [
    "lowess_scatter(df, \"Shell_weight\", \"Rings\", jitter=0.1, skip_lowess=False)"
   ]
  },
  {
   "cell_type": "markdown",
   "metadata": {},
   "source": [
    "After charting the shell weight against the number of rings, it does seem to follow a very similar distribution as the other weight variables.\n",
    "\n",
    "Let's try flipping the axes and adding some jitter again."
   ]
  },
  {
   "cell_type": "code",
   "execution_count": null,
   "metadata": {
    "jupyter": {
     "source_hidden": true
    },
    "tags": []
   },
   "outputs": [],
   "source": [
    "lowess_scatter(df, \"Rings\", \"Shell_weight\", jitter=0.1, skip_lowess=False)"
   ]
  },
  {
   "cell_type": "markdown",
   "metadata": {},
   "source": [
    "Again, the shell weight vs rings chart looks very similar to the other weight measurements. It is difficult to see the stronger correlation we observed with the correlation coefficients. \n",
    "\n",
    "We can say that abalone shell_weight increases slowly at first, then at the 6 year mark whole_weight increases quickly until about year 11, where it then slows down again."
   ]
  },
  {
   "cell_type": "markdown",
   "metadata": {
    "colab_type": "text",
    "id": "rWHPdbNj216s"
   },
   "source": [
    "## 3 <a id=\"step3\">Statistical and Mathematical Modeling of the Target Variable</a>\n",
    "<a href=\"#Predictive Model\">Predictive Model</a><br>\n",
    "<a href=\"#Data Generating Story\">Data Generating Story</a><br>\n",
    "<a href=\"#Distribution Model\">Distribution Model</a><br>\n",
    "<a href=\"#Question 1\">Question 1</a><br>\n",
    "<a href=\"#Question 2\">Question 2</a><br>\n",
    "<a href=\"#Question 3\">Question 3</a>"
   ]
  },
  {
   "cell_type": "markdown",
   "metadata": {
    "colab_type": "text",
    "id": "2Dylhf-W3ipZ"
   },
   "source": [
    "<a id=\"Predictive Model\"></a>\n",
    "## Predictive Model"
   ]
  },
  {
   "cell_type": "markdown",
   "metadata": {},
   "source": [
    "We create a mean model to serve as a constant model. In other words, if we were to pull a random abalone out of the ocean, what single value would we predict to be it's number of rings?\n",
    "\n",
    "To create our mean model, we first define our loss function. We intend for overestimates and underestimates to be treated symmetrically, and for large errors to be given more weight than small errors. Thus, we choose our loss function to be Mean Squared Error. Because we have chosen Mean Squared Error to be our loss function, and the constant model that will minimize MSE is the mean, we choose the mean as our constant model.\n",
    "\n",
    "To create a mean model for our abalone data, we can take the mean value generated from our descriptive statistics above for the rings variable. We can recalculate the mean as follows."
   ]
  },
  {
   "cell_type": "code",
   "execution_count": null,
   "metadata": {
    "jupyter": {
     "source_hidden": true
    },
    "tags": []
   },
   "outputs": [],
   "source": [
    "abalone_predict = np.mean(df.Rings)\n",
    "print(abalone_predict)"
   ]
  },
  {
   "cell_type": "markdown",
   "metadata": {},
   "source": [
    "We find that the mean abalone rings of our data is 9.93. As a predictive model, we can say that the length of a random abalone pulled from the ocean will have about 9.93 rings.\n",
    "\n",
    "In order to provide error bounds on our prediction, we have two options. If the data is approximately normally distributed, we can put bounds on our error of 1.96 standard deviations from the mean. If they are not, we can use Chebyshev's inequality, which states that $1 - \\frac{1}{k^2}$ percent of the data must be within $k$ standard deviations from the mean. \n",
    "\n",
    "Since the data seems to be approximately normally distributed (not necessarily actually normally distributed), we will use 1.96 standard deviations from the mean as our error bounds. \n",
    "\n",
    "We recalculate the standard deviation of the data as follows."
   ]
  },
  {
   "cell_type": "code",
   "execution_count": null,
   "metadata": {
    "jupyter": {
     "source_hidden": true
    },
    "tags": []
   },
   "outputs": [],
   "source": [
    "abalone_std = np.std(df.Rings)\n",
    "print(abalone_std)"
   ]
  },
  {
   "cell_type": "markdown",
   "metadata": {},
   "source": [
    "We find that the standard deviation of our data is 3.22.\n",
    "\n",
    "Now we can calculate our error bounds."
   ]
  },
  {
   "cell_type": "code",
   "execution_count": null,
   "metadata": {
    "jupyter": {
     "source_hidden": true
    },
    "tags": []
   },
   "outputs": [],
   "source": [
    "abalone_error = abalone_std * 1.96\n",
    "print(abalone_error)\n",
    "\n",
    "abalone_predict, abalone_predict - abalone_error, abalone_predict + abalone_error"
   ]
  },
  {
   "cell_type": "markdown",
   "metadata": {},
   "source": [
    "Thus, we can say that our mean model predicts that a random abalone will have 9.93 rings, with a 95% chance of it having between 3.62 and 16.25 rings."
   ]
  },
  {
   "cell_type": "markdown",
   "metadata": {
    "colab_type": "text",
    "id": "2Dylhf-W3ipZ"
   },
   "source": [
    "<a id=\"Data Generating Story\"></a>\n",
    "## Data Generating Story\n",
    "\n",
    "Because the number of rings on an abalone shell roughly equates to the number of years it has been alive, the data generating story for abalone shell rings is roughly the same as the data generating story for the age of abalone. Abalone are born, and must eat to survive. How long an abalone lives (and therefore how many rings it has) is determined by many different factors, including location in the ocean, genetics, food supply and water quality. Thus, it is likely that the number of rings on an abalone shell is determined by many small effects working over time. We predict that the rings variable approximately follows a normal distribution. If a normal distribution is not a good fit, we will also try a log-normal distribution, which we suspect may also be a good fit since the data is right-skewed."
   ]
  },
  {
   "cell_type": "markdown",
   "metadata": {
    "colab_type": "text",
    "id": "2Dylhf-W3ipZ"
   },
   "source": [
    "<a id=\"Distribution Model\"></a>\n",
    "## Distributional Model\n",
    "\n",
    "We want to be able to answer questions such as \"what is the percent chance that an abalone has more than 12 rings?\". These types of questions go beyond the capabilities of the null predictor we calculated above. In order to be able to answer these more complex questions, we want to find a mathematical distribution that approximates our data as closely as possible. \n",
    "\n",
    "The normal distribution has two parameters, which happen to be the first and second moments of the empirical distribution. These are the mean and standard devation of the empirical data, which we have already calculated.\n",
    "\n",
    "We start by plotting the normal distribution with these parameters over the empirical distribution to check the fit."
   ]
  },
  {
   "cell_type": "code",
   "execution_count": null,
   "metadata": {
    "jupyter": {
     "source_hidden": true
    },
    "tags": []
   },
   "outputs": [],
   "source": [
    "figure = plt.figure(figsize=(10,6))\n",
    "\n",
    "axes = figure.add_subplot(1, 1, 1)\n",
    "n, bins, patches = axes.hist(df.Rings, color=\"DimGray\", density=True, bins=30, alpha=0.75)\n",
    "axes.set_xlabel( \"Rings\")\n",
    "axes.set_ylabel( \"Density\")\n",
    "axes.set_title(\"Density Histogram of Abalone Rings with Normal plot\")\n",
    "\n",
    "xs = [(b2 + b1)/2 for b1, b2 in zip(bins, bins[1:])]    \n",
    "\n",
    "abalone_mean = np.mean(df.Rings)\n",
    "abalone_std  = np.std(df.Rings)\n",
    "ys = [norm.pdf( k, loc=abalone_mean, scale=abalone_std) for k in xs]\n",
    "axes.plot(xs, ys, color=\"darkred\")\n",
    "\n",
    "plt.show()\n",
    "plt.close()"
   ]
  },
  {
   "cell_type": "markdown",
   "metadata": {},
   "source": [
    "After plotting the normal distribution over the empirical distribution, it appears as though the normal distribution is not a great fit for the data. We see that it overpredicts at the low end, then underpredicts in the mid-range, and then overpredicts between 11 and 15, then underpredicts again for the trailing end to the right. We will need to try a different distribution to get a better fit. \n",
    "\n",
    "Let's try a log-gaussian distribution. We know that if $X$ follows a log-gaussian distribution, then $Y = ln(X)$ will follow a gaussian distribution. Thus, to see if our data can be closely modeled by a log-gaussian distribution, we take it's natural log and plot it against a regular gaussian distribution using the moments derived from the natural log data $(Y)$."
   ]
  },
  {
   "cell_type": "code",
   "execution_count": null,
   "metadata": {
    "jupyter": {
     "source_hidden": true
    },
    "tags": []
   },
   "outputs": [],
   "source": [
    "df['log_Rings'] = df['Rings'].apply(lambda x: np.log(x))\n",
    "\n",
    "figure = plt.figure(figsize=(10,6))\n",
    "\n",
    "axes = figure.add_subplot(1, 1, 1)\n",
    "n, bins, patches = axes.hist(df['log_Rings'], color=\"DimGray\", density=True, bins=30)\n",
    "axes.set_xlabel(\"log(Rings)\")\n",
    "axes.set_ylabel(\"Density\")\n",
    "axes.set_title(\"Density Histogram of Abalone Rings with Log-Gaussian plot\")\n",
    "\n",
    "xs = [(b2 + b1)/2 for b1, b2 in zip(bins, bins[1:])]\n",
    "\n",
    "mean = np.mean(df['log_Rings'])\n",
    "std  = np.std(df['log_Rings'])\n",
    "ys = [norm.pdf(k, loc=mean, scale=std) for k in xs]\n",
    "axes.plot(xs, ys, color=\"darkred\")\n",
    "\n",
    "plt.show()\n",
    "plt.close()"
   ]
  },
  {
   "cell_type": "markdown",
   "metadata": {},
   "source": [
    "We can see that the log-gaussian distribution is a much better fit for our empirical distribution. \n",
    "\n",
    "Now we will check the goodness of the fits. First we check how well the Normal distribution fits our empirical data. To do this, we generatively create data using the Normal distribution formula with the parameters from our empirical data. Then we plot the cumulative difference between the generated data and the empirical data."
   ]
  },
  {
   "cell_type": "code",
   "execution_count": null,
   "metadata": {
    "jupyter": {
     "source_hidden": true
    },
    "tags": []
   },
   "outputs": [],
   "source": [
    "figure = plt.figure(figsize=(20, 8))\n",
    "\n",
    "abalone_mn = np.min(df.Rings)\n",
    "abalone_mx = np.max(df.Rings)\n",
    "mean = np.mean(df.Rings)\n",
    "std = np.std(df.Rings)\n",
    "\n",
    "axes = figure.add_subplot(1, 2, 1)\n",
    "\n",
    "values, base = np.histogram(df.Rings, bins=30, density=True)\n",
    "cumulative = np.cumsum(values)\n",
    "axes.plot(base[:-1], cumulative, color=\"dimgray\")\n",
    "axes.set_xlim((abalone_mn, abalone_mx))\n",
    "\n",
    "sampled_data = [mean + r * std for r in np.random.standard_normal(10000)]\n",
    "values2, base = np.histogram(sampled_data, bins=base, density=True)\n",
    "cumulative2 = np.cumsum(values2)\n",
    "axes.plot( base[:-1], cumulative2, color=\"firebrick\")\n",
    "axes.set_xlim((abalone_mn, abalone_mx))\n",
    "axes.set_xlabel( \"Empirical v. Theoretical: Normal Distribution\")\n",
    "\n",
    "axes = figure.add_subplot(1, 2, 2)\n",
    "\n",
    "differences = cumulative2 - cumulative\n",
    "axes.plot(base[:-1], differences, color='firebrick')\n",
    "axes.set_xlim((abalone_mn, abalone_mx))\n",
    "axes.hlines(0, 0, 14000, linestyles=\"dotted\")\n",
    "axes.set_xlabel( \"Empirical v. Theoretical: Normal Distribution, Difference\")\n",
    "\n",
    "plt.show()\n",
    "plt.close()"
   ]
  },
  {
   "cell_type": "markdown",
   "metadata": {},
   "source": [
    "We observe that the empirical data (black) does not quite line up with the theoretical distribution (red). It fluctuates above and below, which is consistent with the results of our visual inspection of the histogram.\n",
    "\n",
    "We can also use a QQ-plot to double check the fit."
   ]
  },
  {
   "cell_type": "code",
   "execution_count": null,
   "metadata": {
    "jupyter": {
     "source_hidden": true
    },
    "tags": []
   },
   "outputs": [],
   "source": [
    "figure = plt.figure(figsize=(6, 6))\n",
    "axes = figure.add_subplot(1, 1, 1)\n",
    "stats.probplot(df[\"Rings\"], dist=\"norm\", plot=axes)\n",
    "plt.show()\n",
    "plt.close()"
   ]
  },
  {
   "cell_type": "markdown",
   "metadata": {},
   "source": [
    "The QQ-plot also shows how the Normal distribution is not a good approximation of our data.\n",
    "\n",
    "Now we check how well the Log-Normal distribution fits our data. This time, we generate data using the Log-Normal distribution and plot the cumulative difference between this generated data and the natural log of our empirical data."
   ]
  },
  {
   "cell_type": "code",
   "execution_count": null,
   "metadata": {
    "jupyter": {
     "source_hidden": true
    },
    "tags": []
   },
   "outputs": [],
   "source": [
    "figure = plt.figure(figsize=(20, 8))\n",
    "\n",
    "abalone_mn = np.min(df.log_Rings)\n",
    "abalone_mx = np.max(df.log_Rings)\n",
    "mean = np.mean(df.log_Rings)\n",
    "std = np.std(df.log_Rings)\n",
    "\n",
    "axes = figure.add_subplot(1, 2, 1)\n",
    "\n",
    "values, base = np.histogram(df.log_Rings, bins=30, density=True)\n",
    "cumulative = np.cumsum(values)\n",
    "axes.plot(base[:-1], cumulative, color=\"dimgray\")\n",
    "axes.set_xlim((abalone_mn, abalone_mx))\n",
    "\n",
    "sampled_data = [mean + r * std for r in np.random.standard_normal(10000)]\n",
    "values2, base = np.histogram(sampled_data, bins=base, density=True)\n",
    "cumulative2 = np.cumsum(values2)\n",
    "axes.plot( base[:-1], cumulative2, color=\"firebrick\")\n",
    "axes.set_xlim((abalone_mn, abalone_mx))\n",
    "axes.set_xlabel( \"Empirical v. Theoretical: Log-Normal Distribution\")\n",
    "\n",
    "axes = figure.add_subplot(1, 2, 2)\n",
    "\n",
    "differences = cumulative2 - cumulative\n",
    "axes.plot(base[:-1], differences, color='firebrick')\n",
    "axes.set_xlim((abalone_mn, abalone_mx))\n",
    "axes.hlines(0, 0, 14000, linestyles=\"dotted\")\n",
    "axes.set_xlabel( \"Empirical v. Theoretical: Log-Normal Distribution, Difference\")\n",
    "\n",
    "plt.show()\n",
    "plt.close()"
   ]
  },
  {
   "cell_type": "markdown",
   "metadata": {},
   "source": [
    "We observe that the empirical data (black) fits much closer with the theoretical data (red).\n",
    "\n",
    "Once again, we can use a QQ-plot to double check."
   ]
  },
  {
   "cell_type": "code",
   "execution_count": null,
   "metadata": {
    "jupyter": {
     "source_hidden": true
    },
    "tags": []
   },
   "outputs": [],
   "source": [
    "figure = plt.figure(figsize=(6, 6))\n",
    "axes = figure.add_subplot(1, 1, 1)\n",
    "stats.probplot(df[\"log_Rings\"], dist=\"norm\", plot=axes)\n",
    "plt.show()\n",
    "plt.close()"
   ]
  },
  {
   "cell_type": "markdown",
   "metadata": {},
   "source": [
    "It appears that the Log-Normal distribution is a good approximation of our data.\n",
    "\n",
    "Now that we have found a mathematical distribution that does a good job at approximating our empirical distribution, we can use this approximation to answer more complex questions. This was our goal in finding a distribution that matched our data in the first place. To test our new question-answering capabilities, we will ask and answer three questions."
   ]
  },
  {
   "cell_type": "markdown",
   "metadata": {
    "colab_type": "text",
    "id": "2Dylhf-W3ipZ"
   },
   "source": [
    "<a id=\"Question 1\"></a>\n",
    "## Question 1"
   ]
  },
  {
   "cell_type": "markdown",
   "metadata": {},
   "source": [
    "What is the probability of a random abalone having more than 15 rings?\n",
    "\n",
    "We expect this percentage to be relatively low, since 15 is on the higher end of ring counts for abalone based on our histogram and descriptive statistics.\n",
    "\n",
    "In order to answer this question, we use the survival function. Notice that we calculate both the mean and the standard deviation using the natural log of our empirical data. We use the regular norm.sf() function but we pass in the natural log of our target value."
   ]
  },
  {
   "cell_type": "code",
   "execution_count": null,
   "metadata": {
    "jupyter": {
     "source_hidden": true
    },
    "tags": []
   },
   "outputs": [],
   "source": [
    "mean = np.mean(df[\"log_Rings\"])\n",
    "std  = np.std(df[\"log_Rings\"])\n",
    "\n",
    "norm.sf(math.log(15), mean, std)"
   ]
  },
  {
   "cell_type": "markdown",
   "metadata": {},
   "source": [
    "Our distributional model predicts that there is only a 7.4% chance that a random abalone will have more than 15 rings. This result supports our hypothesis, as relatively few abalone survive long enough to grow more than 15 rings."
   ]
  },
  {
   "cell_type": "markdown",
   "metadata": {
    "colab_type": "text",
    "id": "2Dylhf-W3ipZ"
   },
   "source": [
    "<a id=\"Question 2\"></a>\n",
    "## Question 2"
   ]
  },
  {
   "cell_type": "markdown",
   "metadata": {},
   "source": [
    "What is the probability of a random abalone having fewer than 5 rings?\n",
    "\n",
    "We also expect this percentage to be relatively small, since our histogram shows than very few of the abalone in the data have fewer than 5 rings. \n",
    "\n",
    "In order to answer this question, we use the cumulative distribution function."
   ]
  },
  {
   "cell_type": "code",
   "execution_count": null,
   "metadata": {
    "jupyter": {
     "source_hidden": true
    },
    "tags": []
   },
   "outputs": [],
   "source": [
    "norm.cdf(math.log(5), mean, std)"
   ]
  },
  {
   "cell_type": "markdown",
   "metadata": {},
   "source": [
    "Our distributional model predicts that there is only a 2.3% chance that a random abalone will have fewer than 5 rings. This result supports our hypothesis, as relatively few abalone in the sample have fewer than 5 rings."
   ]
  },
  {
   "cell_type": "markdown",
   "metadata": {
    "colab_type": "text",
    "id": "2Dylhf-W3ipZ"
   },
   "source": [
    "<a id=\"Question 3\"></a>\n",
    "## Question 3"
   ]
  },
  {
   "cell_type": "markdown",
   "metadata": {},
   "source": [
    "What is the probability of a random abalone having between 5 and 10 rings?\n",
    "\n",
    "We expect this percentage to be relatively high, somewhere around 50% based off of visual inspection of the histogram.\n",
    "\n",
    "In order to answer this question, we once again use the cumulative distribution function. This time, however, we find the cdf of the higher value, then subtract the cdf of the lower value."
   ]
  },
  {
   "cell_type": "code",
   "execution_count": null,
   "metadata": {
    "jupyter": {
     "source_hidden": true
    },
    "tags": []
   },
   "outputs": [],
   "source": [
    "norm.cdf(math.log(10), mean, std) - norm.cdf(math.log(5), mean, std)"
   ]
  },
  {
   "cell_type": "markdown",
   "metadata": {},
   "source": [
    "Our model predicts that there is a 54.7% chance that a random abalone will have between 5 and 10 rings. This finding is consistent with our expectation, as a large percentage of the abalone in the sample have ring counts in this range."
   ]
  }
 ],
 "metadata": {
  "colab": {
   "name": "Problem Set 3.ipynb",
   "provenance": [],
   "toc_visible": true
  },
  "kernelspec": {
   "display_name": "Python (en685648)",
   "language": "python",
   "name": "en685648"
  },
  "language_info": {
   "codemirror_mode": {
    "name": "ipython",
    "version": 3
   },
   "file_extension": ".py",
   "mimetype": "text/x-python",
   "name": "python",
   "nbconvert_exporter": "python",
   "pygments_lexer": "ipython3",
   "version": "3.10.12"
  },
  "toc": {
   "colors": {
    "hover_highlight": "#DAA520",
    "navigate_num": "#000000",
    "navigate_text": "#333333",
    "running_highlight": "#FF0000",
    "selected_highlight": "#FFD700",
    "sidebar_border": "#EEEEEE",
    "wrapper_background": "#FFFFFF"
   },
   "moveMenuLeft": true,
   "nav_menu": {
    "height": "66px",
    "width": "252px"
   },
   "navigate_menu": true,
   "number_sections": true,
   "sideBar": true,
   "threshold": 4,
   "toc_cell": false,
   "toc_section_display": "block",
   "toc_window_display": false,
   "widenNotebook": false
  }
 },
 "nbformat": 4,
 "nbformat_minor": 4
}
